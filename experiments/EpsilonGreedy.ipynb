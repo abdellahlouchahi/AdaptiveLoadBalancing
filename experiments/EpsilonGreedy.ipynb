{
 "cells": [
  {
   "cell_type": "code",
   "execution_count": 1,
   "metadata": {},
   "outputs": [],
   "source": [
    "%load_ext autoreload\n",
    "%autoreload 2\n",
    "import sys\n",
    "sys.path.insert(0, '..')\n",
    "\n",
    "from sim.LoadBalancer import LoadBalancer\n",
    "from sim.Source import ArrivalSchedule, Source\n",
    "from sim.Environment import Environment\n",
    "import numpy as np\n",
    "import random\n",
    "import matplotlib.pyplot as plt\n",
    "import math"
   ]
  },
  {
   "attachments": {},
   "cell_type": "markdown",
   "metadata": {},
   "source": [
    "### Implementing the Epsilon Greedy algorithm in our LoadBalancer structure\n",
    "We use the LoadBalancer as the base class and import the epsilong greedy algorithm"
   ]
  },
  {
   "cell_type": "code",
   "execution_count": 49,
   "metadata": {},
   "outputs": [],
   "source": [
    "class GreedyEpsilonLoadBalancer(LoadBalancer):\n",
    "    def __init__(self, nServers, environment, model, processReward=1, cancelReward=-10, serverReward=-300, eta=0.15, nServerRange = (1,40), usePartialFit=False, periodLength =1):\n",
    "        \"\"\"\n",
    "            model: obj with methods predict, fit, fit_partial etc.\n",
    "            eta: float or callable(periodIndex: int -> float)\n",
    "        \"\"\"\n",
    "        super().__init__(nServers, environment)\n",
    "        self.model = model # a model that takes (N_t, X_t) and predicts the reward of the next time period\n",
    "        self.agg = {'totalInQueue': np.mean,'requestStartWaiting':np.sum,'arrivalEvent':np.sum,'requestWaitingTime': np.mean,'requestProcessed':np.sum,'totalTimeInSystem':np.mean,'requestCancelled':np.sum}\n",
    "        self.currentPeriod = 0\n",
    "        self.processReward, self.cancelReward, self.serverReward = processReward, cancelReward, serverReward\n",
    "        self.eta = eta\n",
    "        self.nServerRange = nServerRange #the range for the bernoulli to sample from\n",
    "        self.usePartialFit = usePartialFit\n",
    "        self.periodLength = periodLength\n",
    "        self.X = None #store the complete feature dataset here\n",
    "        self.y = None #store the complete target dataset here s\n",
    "\n",
    "    def getEta(self):\n",
    "        if callable(self.eta):\n",
    "            return self.eta(self.currentPeriod)\n",
    "        else:\n",
    "            return self.eta\n",
    "\n",
    "    def getPreviousPeriodContext(self):\n",
    "        \"\"\"\n",
    "        Get the context from the period that just ended (potentially add lags here from previous periods)\n",
    "        \"\"\"\n",
    "        previousPeriodData = self.environment.getPeriodLog() #returns {key: values}\n",
    "        previousPeriodContext = {key: self.agg[key](vals) for key,vals in previousPeriodData.items() if key in self.agg.keys()} #apply aggregation: go from lists to scalars\n",
    "        previousPeriodContext ={key:val if not np.isnan(val) else 0 for key,val in previousPeriodContext.items()}\n",
    "        previousPeriodContext ={key:previousPeriodContext[key] if key in previousPeriodContext.keys() else 0 for key in self.agg.keys()}\n",
    "\n",
    "        self.environment.resetPeriod()\n",
    "        return previousPeriodContext\n",
    "\n",
    "    def getPreviousPeriodReward(self, context: dict):\n",
    "        \"\"\"\n",
    "        Get the reward of the period that just ended\n",
    "        \"\"\"\n",
    "        nProcessed = context['requestProcessed']\n",
    "        nCancelled = context['requestCancelled'] if 'requestCancelled' in context.keys() else 0\n",
    "        nServers = self.nServers\n",
    "        reward = nProcessed * self.processReward + nCancelled * self.cancelReward + self.periodLength/60/60*nServers*self.serverReward\n",
    "        print(nProcessed, nCancelled, nServers, reward)\n",
    "        return reward\n",
    "\n",
    "    def findModelOptimum(self, context):\n",
    "        max = -math.inf\n",
    "        maxArg = 0\n",
    "        for n in range(self.nServerRange[0], self.nServerRange[1]): #implement better optimization here\n",
    "            X =  np.append(np.array(list(context.values())), n)\n",
    "            rewardHat = self.model.predict(X[None,:])[0]\n",
    "            if rewardHat > max:\n",
    "                maxArg = n\n",
    "                max = rewardHat\n",
    "        print(\"Max reward for\", rewardHat, maxArg)\n",
    "        return maxArg\n",
    "\n",
    "    def getNextPeriodNumberOfServers(self, context):\n",
    "        #take random action or input the context into the model and maximizy the output w.r.t N\n",
    "        draw = random.random()\n",
    "        eta = self.getEta()\n",
    "        self.environment.logData('eta', eta)\n",
    "        nServers = None\n",
    "        if draw < eta or self.currentPeriod <= 1: #on first iteration the model is not fitted\n",
    "            #Take random action\n",
    "            self.environment.logData(\"greedyEpsilonActionType\", 0)\n",
    "            nServers = random.randint(self.nServerRange[0], self.nServerRange[1])\n",
    "        else:\n",
    "            self.environment.logData(\"greedyEpsilonActionType\", 1)\n",
    "            nServers = self.findModelOptimum(context) \n",
    "\n",
    "        return nServers\n",
    "        \n",
    "    def updateModel(self, context, reward):\n",
    "        #update the model using the context, nServers and observed reward\n",
    "        if self.currentPeriod > 0:\n",
    "            newY = np.array([reward])\n",
    "            self.y = np.append(self.y, newY[None,:], axis=0) if self.y is not None else newY[None,:]\n",
    "            if not self.usePartialFit:\n",
    "                #print(self.X.shape,self.y.shape)\n",
    "                self.model = self.model.fit(self.X, self.y) #make sure the hat the last period x is ignored\n",
    "                print(self.model.score(self.X, self.y))\n",
    "            else:\n",
    "                raise NotImplementedError\n",
    "\n",
    "    def updateX(self, context, nOptimal):\n",
    "        newX = np.array(list(context.values()) + [nOptimal]) #+ [reward] #add the current nServers to X\n",
    "        self.X = np.append(self.X, newX[None,:], axis=0) if self.X is not None else newX[None,:] #update the data \n",
    "\n",
    "    def onPeriodEnd(self):\n",
    "        #Get the reward of the current period\n",
    "        previousPeriodContext = self.getPreviousPeriodContext()\n",
    "        #print(previousPeriodContext)\n",
    "        previousPeriodReward = self.getPreviousPeriodReward(previousPeriodContext)\n",
    "        self.environment.logData(\"reward\", previousPeriodReward)\n",
    "        self.updateModel(previousPeriodContext, previousPeriodReward)\n",
    "        if self.currentPeriod>0:print(self.X.shape,self.y.shape)\n",
    "        nextPeriodNServers = self.getNextPeriodNumberOfServers(previousPeriodContext)\n",
    "        self._setNumberOfServers(nextPeriodNServers)\n",
    "        self.updateX(previousPeriodContext, nextPeriodNServers)\n",
    "        self.currentPeriod+=1\n",
    "        print(self.nServers)\n",
    "\n"
   ]
  },
  {
   "attachments": {},
   "cell_type": "markdown",
   "metadata": {},
   "source": [
    "### Test for fixed rate"
   ]
  },
  {
   "cell_type": "code",
   "execution_count": 29,
   "metadata": {},
   "outputs": [
    {
     "name": "stdout",
     "output_type": "stream",
     "text": [
      "8\n"
     ]
    }
   ],
   "source": [
    "from BinarySearch import binaryServerSearch\n",
    "\n",
    "opt = binaryServerSearch(5,[0,40])\n",
    "print(opt)"
   ]
  },
  {
   "cell_type": "code",
   "execution_count": 50,
   "metadata": {},
   "outputs": [
    {
     "name": "stdout",
     "output_type": "stream",
     "text": [
      "18109 0 10 18108.166666666668\n",
      "13\n",
      "17878 0 13 17876.916666666668\n",
      "nan\n",
      "(1, 8) (1, 1)\n",
      "27\n"
     ]
    },
    {
     "name": "stderr",
     "output_type": "stream",
     "text": [
      "/Users/julianvanmeggelen/opt/anaconda3/lib/python3.8/site-packages/sklearn/metrics/_regression.py:682: UndefinedMetricWarning: R^2 score is not well-defined with less than two samples.\n",
      "  warnings.warn(msg, UndefinedMetricWarning)\n",
      "/Users/julianvanmeggelen/opt/anaconda3/lib/python3.8/site-packages/numpy/core/fromnumeric.py:3464: RuntimeWarning: Mean of empty slice.\n",
      "  return _methods._mean(a, axis=axis, dtype=dtype,\n",
      "/Users/julianvanmeggelen/opt/anaconda3/lib/python3.8/site-packages/numpy/core/_methods.py:192: RuntimeWarning: invalid value encountered in scalar divide\n",
      "  ret = ret.dtype.type(ret / rcount)\n"
     ]
    },
    {
     "name": "stdout",
     "output_type": "stream",
     "text": [
      "17999 0 27 17996.75\n",
      "1.0\n",
      "(2, 8) (2, 1)\n",
      "15\n",
      "18007 0 15 18005.75\n",
      "1.0\n",
      "(3, 8) (3, 1)\n",
      "28\n",
      "17873 0 28 17870.666666666668\n",
      "1.0\n",
      "(4, 8) (4, 1)\n",
      "30\n",
      "18081 0 30 18078.5\n",
      "1.0\n",
      "(5, 8) (5, 1)\n",
      "Max reward for 17876.916666666668 10\n",
      "10\n",
      "17975 0 10 17974.166666666668\n",
      "1.0\n",
      "(6, 8) (6, 1)\n",
      "17\n",
      "17968 0 17 17966.583333333332\n",
      "1.0\n",
      "(7, 8) (7, 1)\n",
      "19\n",
      "17928 0 19 17926.416666666668\n",
      "1.0\n",
      "(8, 8) (8, 1)\n",
      "Max reward for 17974.166666666668 10\n",
      "10\n",
      "17993 0 10 17992.166666666668\n",
      "1.0\n",
      "(9, 8) (9, 1)\n",
      "29\n",
      "17902 0 29 17899.583333333332\n",
      "1.0\n",
      "(10, 8) (10, 1)\n",
      "Max reward for 18078.5 23\n",
      "23\n"
     ]
    },
    {
     "name": "stderr",
     "output_type": "stream",
     "text": [
      "/Users/julianvanmeggelen/opt/anaconda3/lib/python3.8/site-packages/numpy/core/fromnumeric.py:3464: RuntimeWarning: Mean of empty slice.\n",
      "  return _methods._mean(a, axis=axis, dtype=dtype,\n",
      "/Users/julianvanmeggelen/opt/anaconda3/lib/python3.8/site-packages/numpy/core/_methods.py:192: RuntimeWarning: invalid value encountered in scalar divide\n",
      "  ret = ret.dtype.type(ret / rcount)\n"
     ]
    },
    {
     "name": "stdout",
     "output_type": "stream",
     "text": [
      "18039 0 23 18037.083333333332\n",
      "1.0\n",
      "(11, 8) (11, 1)\n",
      "21\n"
     ]
    },
    {
     "name": "stderr",
     "output_type": "stream",
     "text": [
      "/Users/julianvanmeggelen/opt/anaconda3/lib/python3.8/site-packages/numpy/core/fromnumeric.py:3464: RuntimeWarning: Mean of empty slice.\n",
      "  return _methods._mean(a, axis=axis, dtype=dtype,\n",
      "/Users/julianvanmeggelen/opt/anaconda3/lib/python3.8/site-packages/numpy/core/_methods.py:192: RuntimeWarning: invalid value encountered in scalar divide\n",
      "  ret = ret.dtype.type(ret / rcount)\n"
     ]
    },
    {
     "name": "stdout",
     "output_type": "stream",
     "text": [
      "17930 0 21 17928.25\n",
      "1.0\n",
      "(12, 8) (12, 1)\n",
      "27\n",
      "17943 0 27 17940.75\n",
      "1.0\n",
      "(13, 8) (13, 1)\n",
      "25\n"
     ]
    },
    {
     "name": "stderr",
     "output_type": "stream",
     "text": [
      "/Users/julianvanmeggelen/opt/anaconda3/lib/python3.8/site-packages/numpy/core/fromnumeric.py:3464: RuntimeWarning: Mean of empty slice.\n",
      "  return _methods._mean(a, axis=axis, dtype=dtype,\n",
      "/Users/julianvanmeggelen/opt/anaconda3/lib/python3.8/site-packages/numpy/core/_methods.py:192: RuntimeWarning: invalid value encountered in scalar divide\n",
      "  ret = ret.dtype.type(ret / rcount)\n"
     ]
    },
    {
     "name": "stdout",
     "output_type": "stream",
     "text": [
      "18028 0 25 18025.916666666668\n",
      "1.0\n",
      "(14, 8) (14, 1)\n",
      "19\n",
      "18035 0 19 18033.416666666668\n",
      "1.0\n",
      "(15, 8) (15, 1)\n",
      "Max reward for 18025.916666666668 10\n",
      "10\n",
      "17967 0 10 17966.166666666668\n",
      "1.0\n",
      "(16, 8) (16, 1)\n",
      "29\n",
      "17890 0 29 17887.583333333332\n",
      "1.0\n",
      "(17, 8) (17, 1)\n",
      "20\n"
     ]
    },
    {
     "name": "stderr",
     "output_type": "stream",
     "text": [
      "/Users/julianvanmeggelen/opt/anaconda3/lib/python3.8/site-packages/numpy/core/fromnumeric.py:3464: RuntimeWarning: Mean of empty slice.\n",
      "  return _methods._mean(a, axis=axis, dtype=dtype,\n",
      "/Users/julianvanmeggelen/opt/anaconda3/lib/python3.8/site-packages/numpy/core/_methods.py:192: RuntimeWarning: invalid value encountered in scalar divide\n",
      "  ret = ret.dtype.type(ret / rcount)\n"
     ]
    },
    {
     "name": "stdout",
     "output_type": "stream",
     "text": [
      "18050 0 20 18048.333333333332\n",
      "1.0\n",
      "(18, 8) (18, 1)\n",
      "Max reward for 17974.166666666668 10\n",
      "10\n",
      "17958 0 10 17957.166666666668\n",
      "1.0\n",
      "(19, 8) (19, 1)\n",
      "15\n",
      "18069 0 15 18067.75\n",
      "1.0\n",
      "(20, 8) (20, 1)\n",
      "Max reward for 17876.916666666668 10\n",
      "10\n",
      "17931 0 10 17930.166666666668\n",
      "1.0\n",
      "(21, 8) (21, 1)\n",
      "19\n",
      "17977 0 19 17975.416666666668\n",
      "1.0\n",
      "(22, 8) (22, 1)\n",
      "13\n",
      "18090 0 13 18088.916666666668\n",
      "1.0\n",
      "(23, 8) (23, 1)\n",
      "13\n",
      "18117 0 13 18115.916666666668\n",
      "1.0\n",
      "(24, 8) (24, 1)\n",
      "Max reward for 18115.916666666668 10\n",
      "10\n",
      "18030 0 10 18029.166666666668\n",
      "1.0\n",
      "(25, 8) (25, 1)\n",
      "27\n",
      "18132 0 27 18129.75\n",
      "1.0\n",
      "(26, 8) (26, 1)\n",
      "16\n",
      "17816 0 16 17814.666666666668\n",
      "1.0\n",
      "(27, 8) (27, 1)\n",
      "Max reward for 17870.666666666668 10\n",
      "10\n",
      "18051 0 10 18050.166666666668\n",
      "1.0\n",
      "(28, 8) (28, 1)\n",
      "28\n",
      "18026 0 28 18023.666666666668\n",
      "1.0\n",
      "(29, 8) (29, 1)\n",
      "Max reward for 17996.75 10\n",
      "10\n",
      "18018 0 10 18017.166666666668\n",
      "1.0\n",
      "(30, 8) (30, 1)\n",
      "Max reward for 17887.583333333332 10\n",
      "10\n",
      "18040 0 10 18039.166666666668\n",
      "1.0\n",
      "(31, 8) (31, 1)\n",
      "12\n",
      "17995 0 12 17994.0\n",
      "1.0\n",
      "(32, 8) (32, 1)\n",
      "Max reward for 17966.583333333332 10\n",
      "10\n",
      "18104 0 10 18103.166666666668\n",
      "1.0\n",
      "(33, 8) (33, 1)\n",
      "19\n",
      "17836 0 19 17834.416666666668\n",
      "1.0\n",
      "(34, 8) (34, 1)\n",
      "20\n",
      "18001 0 20 17999.333333333332\n",
      "1.0\n",
      "(35, 8) (35, 1)\n",
      "Max reward for 17940.75 10\n",
      "10\n",
      "18044 0 10 18043.166666666668\n",
      "1.0\n",
      "(36, 8) (36, 1)\n",
      "12\n",
      "18033 0 12 18032.0\n",
      "1.0\n",
      "(37, 8) (37, 1)\n",
      "Max reward for 18078.5 26\n",
      "26\n",
      "17925 0 26 17922.833333333332\n",
      "1.0\n",
      "(38, 8) (38, 1)\n",
      "23\n"
     ]
    },
    {
     "name": "stderr",
     "output_type": "stream",
     "text": [
      "/Users/julianvanmeggelen/opt/anaconda3/lib/python3.8/site-packages/numpy/core/fromnumeric.py:3464: RuntimeWarning: Mean of empty slice.\n",
      "  return _methods._mean(a, axis=axis, dtype=dtype,\n",
      "/Users/julianvanmeggelen/opt/anaconda3/lib/python3.8/site-packages/numpy/core/_methods.py:192: RuntimeWarning: invalid value encountered in scalar divide\n",
      "  ret = ret.dtype.type(ret / rcount)\n"
     ]
    },
    {
     "name": "stdout",
     "output_type": "stream",
     "text": [
      "18038 0 23 18036.083333333332\n",
      "1.0\n",
      "(39, 8) (39, 1)\n",
      "Max reward for 17957.166666666668 10\n",
      "10\n",
      "17973 0 10 17972.166666666668\n",
      "1.0\n",
      "(40, 8) (40, 1)\n",
      "20\n",
      "18088 0 20 18086.333333333332\n",
      "1.0\n",
      "(41, 8) (41, 1)\n",
      "Max reward for 17899.583333333332 10\n",
      "10\n",
      "17930 0 10 17929.166666666668\n",
      "1.0\n",
      "(42, 8) (42, 1)\n",
      "Max reward for 17887.583333333332 10\n",
      "10\n",
      "17999 0 10 17998.166666666668\n",
      "1.0\n",
      "(43, 8) (43, 1)\n",
      "Max reward for 18023.666666666668 10\n",
      "10\n",
      "18067 0 10 18066.166666666668\n",
      "1.0\n",
      "(44, 8) (44, 1)\n",
      "Max reward for 17994.0 10\n",
      "10\n",
      "18011 0 10 18010.166666666668\n",
      "1.0\n",
      "(45, 8) (45, 1)\n",
      "Max reward for 17929.166666666668 10\n",
      "10\n",
      "17919 0 10 17918.166666666668\n",
      "1.0\n",
      "(46, 8) (46, 1)\n",
      "18\n",
      "18001 0 18 17999.5\n",
      "1.0\n",
      "(47, 8) (47, 1)\n",
      "15\n",
      "17963 0 15 17961.75\n",
      "1.0\n",
      "(48, 8) (48, 1)\n",
      "Max reward for 17870.666666666668 10\n",
      "10\n",
      "17894 0 10 17893.166666666668\n",
      "1.0\n",
      "(49, 8) (49, 1)\n",
      "17\n",
      "17972 0 17 17970.583333333332\n",
      "1.0\n",
      "(50, 8) (50, 1)\n",
      "23\n"
     ]
    },
    {
     "name": "stderr",
     "output_type": "stream",
     "text": [
      "/Users/julianvanmeggelen/opt/anaconda3/lib/python3.8/site-packages/numpy/core/fromnumeric.py:3464: RuntimeWarning: Mean of empty slice.\n",
      "  return _methods._mean(a, axis=axis, dtype=dtype,\n",
      "/Users/julianvanmeggelen/opt/anaconda3/lib/python3.8/site-packages/numpy/core/_methods.py:192: RuntimeWarning: invalid value encountered in scalar divide\n",
      "  ret = ret.dtype.type(ret / rcount)\n"
     ]
    },
    {
     "name": "stdout",
     "output_type": "stream",
     "text": [
      "18138 0 23 18136.083333333332\n",
      "1.0\n",
      "(51, 8) (51, 1)\n",
      "Max reward for 17814.666666666668 10\n",
      "10\n",
      "18125 0 10 18124.166666666668\n",
      "1.0\n",
      "(52, 8) (52, 1)\n",
      "19\n",
      "18099 0 19 18097.416666666668\n",
      "1.0\n",
      "(53, 8) (53, 1)\n",
      "30\n"
     ]
    },
    {
     "name": "stderr",
     "output_type": "stream",
     "text": [
      "/Users/julianvanmeggelen/opt/anaconda3/lib/python3.8/site-packages/numpy/core/fromnumeric.py:3464: RuntimeWarning: Mean of empty slice.\n",
      "  return _methods._mean(a, axis=axis, dtype=dtype,\n",
      "/Users/julianvanmeggelen/opt/anaconda3/lib/python3.8/site-packages/numpy/core/_methods.py:192: RuntimeWarning: invalid value encountered in scalar divide\n",
      "  ret = ret.dtype.type(ret / rcount)\n"
     ]
    },
    {
     "name": "stdout",
     "output_type": "stream",
     "text": [
      "17957 0 30 17954.5\n",
      "1.0\n",
      "(54, 8) (54, 1)\n",
      "Max reward for 17926.416666666668 10\n",
      "10\n",
      "17914 0 10 17913.166666666668\n",
      "1.0\n",
      "(55, 8) (55, 1)\n",
      "Max reward for 17887.583333333332 18\n",
      "18\n",
      "17825 0 18 17823.5\n",
      "1.0\n",
      "(56, 8) (56, 1)\n",
      "Max reward for 18048.333333333332 10\n",
      "10\n",
      "17940 0 10 17939.166666666668\n",
      "1.0\n",
      "(57, 8) (57, 1)\n",
      "Max reward for 17975.416666666668 10\n",
      "10\n",
      "18007 0 10 18006.166666666668\n",
      "1.0\n",
      "(58, 8) (58, 1)\n",
      "Max reward for 17876.916666666668 10\n",
      "10\n",
      "18084 0 10 18083.166666666668\n",
      "1.0\n",
      "(59, 8) (59, 1)\n",
      "Max reward for 17887.583333333332 24\n",
      "24\n",
      "18035 0 24 18033.0\n",
      "1.0\n",
      "(60, 8) (60, 1)\n",
      "Max reward for 18048.333333333332 10\n",
      "10\n",
      "17979 0 10 17978.166666666668\n",
      "1.0\n",
      "(61, 8) (61, 1)\n",
      "Max reward for 17887.583333333332 20\n",
      "20\n",
      "17943 0 20 17941.333333333332\n",
      "1.0\n",
      "(62, 8) (62, 1)\n",
      "Max reward for 18048.333333333332 10\n",
      "10\n",
      "18094 0 10 18093.166666666668\n",
      "1.0\n",
      "(63, 8) (63, 1)\n",
      "Max reward for 18083.166666666668 10\n",
      "10\n",
      "17769 0 10 17768.166666666668\n",
      "1.0\n",
      "(64, 8) (64, 1)\n",
      "12\n",
      "18030 0 12 18029.0\n",
      "1.0\n",
      "(65, 8) (65, 1)\n",
      "Max reward for 18136.083333333332 19\n",
      "19\n",
      "17979 0 19 17977.416666666668\n",
      "1.0\n",
      "(66, 8) (66, 1)\n",
      "Max reward for 18093.166666666668 10\n",
      "10\n",
      "18066 0 10 18065.166666666668\n",
      "1.0\n",
      "(67, 8) (67, 1)\n",
      "30\n",
      "18151 0 30 18148.5\n",
      "1.0\n",
      "(68, 8) (68, 1)\n",
      "Max reward for 18124.166666666668 10\n",
      "10\n",
      "17893 0 10 17892.166666666668\n",
      "1.0\n",
      "(69, 8) (69, 1)\n",
      "Max reward for 17970.583333333332 10\n",
      "10\n",
      "18049 0 10 18048.166666666668\n",
      "1.0\n",
      "(70, 8) (70, 1)\n",
      "Max reward for 17870.666666666668 20\n",
      "20\n",
      "18184 0 20 18182.333333333332\n",
      "1.0\n",
      "(71, 8) (71, 1)\n",
      "Max reward for 17814.666666666668 10\n",
      "10\n",
      "18074 0 10 18073.166666666668\n",
      "1.0\n",
      "(72, 8) (72, 1)\n",
      "Max reward for 18083.166666666668 10\n",
      "10\n",
      "17986 0 10 17985.166666666668\n",
      "1.0\n",
      "(73, 8) (73, 1)\n",
      "Max reward for 17899.583333333332 10\n",
      "10\n",
      "17955 0 10 17954.166666666668\n",
      "1.0\n",
      "(74, 8) (74, 1)\n",
      "Max reward for 18129.75 27\n",
      "27\n",
      "17992 0 27 17989.75\n",
      "1.0\n",
      "(75, 8) (75, 1)\n",
      "Max reward for 17928.25 13\n",
      "13\n",
      "17862 0 13 17860.916666666668\n",
      "1.0\n",
      "(76, 8) (76, 1)\n",
      "Max reward for 17996.75 10\n",
      "10\n",
      "17998 0 10 17997.166666666668\n",
      "1.0\n",
      "(77, 8) (77, 1)\n",
      "14\n",
      "17796 0 14 17794.833333333332\n",
      "1.0\n",
      "(78, 8) (78, 1)\n",
      "Max reward for 17996.75 20\n",
      "20\n",
      "17825 0 20 17823.333333333332\n",
      "1.0\n",
      "(79, 8) (79, 1)\n",
      "29\n",
      "18023 0 29 18020.583333333332\n",
      "1.0\n",
      "(80, 8) (80, 1)\n",
      "30\n"
     ]
    },
    {
     "name": "stderr",
     "output_type": "stream",
     "text": [
      "/Users/julianvanmeggelen/opt/anaconda3/lib/python3.8/site-packages/numpy/core/fromnumeric.py:3464: RuntimeWarning: Mean of empty slice.\n",
      "  return _methods._mean(a, axis=axis, dtype=dtype,\n",
      "/Users/julianvanmeggelen/opt/anaconda3/lib/python3.8/site-packages/numpy/core/_methods.py:192: RuntimeWarning: invalid value encountered in scalar divide\n",
      "  ret = ret.dtype.type(ret / rcount)\n"
     ]
    },
    {
     "name": "stdout",
     "output_type": "stream",
     "text": [
      "17946 0 30 17943.5\n",
      "1.0\n",
      "(81, 8) (81, 1)\n",
      "Max reward for 17996.75 10\n",
      "10\n",
      "18172 0 10 18171.166666666668\n",
      "1.0\n",
      "(82, 8) (82, 1)\n",
      "Max reward for 17887.583333333332 10\n",
      "10\n",
      "18128 0 10 18127.166666666668\n",
      "1.0\n",
      "(83, 8) (83, 1)\n",
      "Max reward for 17768.166666666668 10\n",
      "10\n",
      "17829 0 10 17828.166666666668\n",
      "1.0\n",
      "(84, 8) (84, 1)\n",
      "Max reward for 17989.75 10\n",
      "10\n",
      "17938 0 10 17937.166666666668\n",
      "1.0\n",
      "(85, 8) (85, 1)\n",
      "Max reward for 17975.416666666668 10\n",
      "10\n",
      "17919 0 10 17918.166666666668\n",
      "1.0\n",
      "(86, 8) (86, 1)\n",
      "Max reward for 17975.416666666668 10\n",
      "10\n",
      "18171 0 10 18170.166666666668\n",
      "1.0\n",
      "(87, 8) (87, 1)\n",
      "Max reward for 18127.166666666668 10\n",
      "10\n",
      "18018 0 10 18017.166666666668\n",
      "1.0\n",
      "(88, 8) (88, 1)\n",
      "Max reward for 17870.666666666668 10\n",
      "10\n",
      "17952 0 10 17951.166666666668\n",
      "1.0\n",
      "(89, 8) (89, 1)\n",
      "Max reward for 17899.583333333332 20\n",
      "20\n",
      "18026 0 20 18024.333333333332\n",
      "1.0\n",
      "(90, 8) (90, 1)\n",
      "Max reward for 17870.666666666668 10\n",
      "10\n",
      "17977 0 10 17976.166666666668\n",
      "1.0\n",
      "(91, 8) (91, 1)\n",
      "Max reward for 17887.583333333332 10\n",
      "10\n",
      "17917 0 10 17916.166666666668\n",
      "1.0\n",
      "(92, 8) (92, 1)\n",
      "14\n",
      "17992 0 14 17990.833333333332\n",
      "1.0\n",
      "(93, 8) (93, 1)\n",
      "Max reward for 17887.583333333332 10\n",
      "10\n",
      "18043 0 10 18042.166666666668\n",
      "1.0\n",
      "(94, 8) (94, 1)\n",
      "Max reward for 17870.666666666668 10\n",
      "10\n",
      "17951 0 10 17950.166666666668\n",
      "1.0\n",
      "(95, 8) (95, 1)\n",
      "Max reward for 17887.583333333332 10\n",
      "10\n",
      "18076 0 10 18075.166666666668\n",
      "1.0\n",
      "(96, 8) (96, 1)\n",
      "Max reward for 17870.666666666668 10\n",
      "10\n",
      "17969 0 10 17968.166666666668\n",
      "1.0\n",
      "(97, 8) (97, 1)\n",
      "Max reward for 17887.583333333332 19\n",
      "19\n",
      "17932 0 19 17930.416666666668\n",
      "1.0\n",
      "(98, 8) (98, 1)\n",
      "Max reward for 17926.416666666668 15\n",
      "15\n",
      "17895 0 15 17893.75\n",
      "1.0\n",
      "(99, 8) (99, 1)\n",
      "Max reward for 17940.75 22\n",
      "22\n"
     ]
    },
    {
     "name": "stderr",
     "output_type": "stream",
     "text": [
      "/Users/julianvanmeggelen/opt/anaconda3/lib/python3.8/site-packages/numpy/core/fromnumeric.py:3464: RuntimeWarning: Mean of empty slice.\n",
      "  return _methods._mean(a, axis=axis, dtype=dtype,\n",
      "/Users/julianvanmeggelen/opt/anaconda3/lib/python3.8/site-packages/numpy/core/_methods.py:192: RuntimeWarning: invalid value encountered in scalar divide\n",
      "  ret = ret.dtype.type(ret / rcount)\n"
     ]
    },
    {
     "name": "stdout",
     "output_type": "stream",
     "text": [
      "17855 0 22 17853.166666666668\n",
      "1.0\n",
      "(100, 8) (100, 1)\n",
      "Max reward for 17853.166666666668 10\n",
      "10\n",
      "18108 0 10 18107.166666666668\n",
      "1.0\n",
      "(101, 8) (101, 1)\n",
      "Max reward for 18023.666666666668 10\n",
      "10\n",
      "18067 0 10 18066.166666666668\n",
      "1.0\n",
      "(102, 8) (102, 1)\n",
      "Max reward for 17899.583333333332 13\n",
      "13\n",
      "18000 0 13 17998.916666666668\n",
      "1.0\n",
      "(103, 8) (103, 1)\n",
      "Max reward for 17943.5 22\n",
      "22\n",
      "18003 0 22 18001.166666666668\n",
      "1.0\n",
      "(104, 8) (104, 1)\n",
      "Max reward for 17943.5 10\n",
      "10\n",
      "18074 0 10 18073.166666666668\n",
      "1.0\n",
      "(105, 8) (105, 1)\n",
      "Max reward for 18148.5 20\n",
      "20\n",
      "18004 0 20 18002.333333333332\n",
      "1.0\n",
      "(106, 8) (106, 1)\n",
      "Max reward for 18025.916666666668 13\n",
      "13\n",
      "18175 0 13 18173.916666666668\n",
      "1.0\n",
      "(107, 8) (107, 1)\n",
      "Max reward for 17943.5 12\n",
      "12\n",
      "18041 0 12 18040.0\n",
      "1.0\n",
      "(108, 8) (108, 1)\n",
      "Max reward for 17954.5 13\n",
      "13\n",
      "18132 0 13 18130.916666666668\n",
      "1.0\n",
      "(109, 8) (109, 1)\n",
      "Max reward for 17954.5 13\n",
      "13\n",
      "17891 0 13 17889.916666666668\n",
      "1.0\n",
      "(110, 8) (110, 1)\n",
      "Max reward for 17887.583333333332 13\n",
      "13\n",
      "17869 0 13 17867.916666666668\n",
      "1.0\n",
      "(111, 8) (111, 1)\n",
      "Max reward for 18078.5 26\n",
      "26\n",
      "17970 0 26 17967.833333333332\n",
      "1.0\n",
      "(112, 8) (112, 1)\n",
      "Max reward for 17887.583333333332 20\n",
      "20\n"
     ]
    },
    {
     "name": "stderr",
     "output_type": "stream",
     "text": [
      "/Users/julianvanmeggelen/opt/anaconda3/lib/python3.8/site-packages/numpy/core/fromnumeric.py:3464: RuntimeWarning: Mean of empty slice.\n",
      "  return _methods._mean(a, axis=axis, dtype=dtype,\n",
      "/Users/julianvanmeggelen/opt/anaconda3/lib/python3.8/site-packages/numpy/core/_methods.py:192: RuntimeWarning: invalid value encountered in scalar divide\n",
      "  ret = ret.dtype.type(ret / rcount)\n"
     ]
    },
    {
     "name": "stdout",
     "output_type": "stream",
     "text": [
      "18004 0 20 18002.333333333332\n",
      "1.0\n",
      "(113, 8) (113, 1)\n",
      "Max reward for 17928.25 10\n",
      "10\n",
      "18047 0 10 18046.166666666668\n",
      "1.0\n",
      "(114, 8) (114, 1)\n",
      "Max reward for 18148.5 26\n",
      "26\n",
      "18040 0 26 18037.833333333332\n",
      "1.0\n",
      "(115, 8) (115, 1)\n",
      "Max reward for 17922.833333333332 20\n",
      "20\n",
      "18024 0 20 18022.333333333332\n",
      "1.0\n",
      "(116, 8) (116, 1)\n",
      "Max reward for 18020.583333333332 14\n",
      "14\n",
      "18080 0 14 18078.833333333332\n",
      "1.0\n",
      "(117, 8) (117, 1)\n",
      "Max reward for 18115.916666666668 10\n",
      "10\n",
      "17914 0 10 17913.166666666668\n",
      "1.0\n",
      "(118, 8) (118, 1)\n",
      "Max reward for 18086.333333333332 10\n",
      "10\n",
      "18142 0 10 18141.166666666668\n",
      "1.0\n",
      "(119, 8) (119, 1)\n",
      "Max reward for 18097.416666666668 10\n",
      "10\n",
      "18068 0 10 18067.166666666668\n",
      "1.0\n",
      "(120, 8) (120, 1)\n",
      "Max reward for 18023.666666666668 25\n",
      "25\n"
     ]
    },
    {
     "name": "stderr",
     "output_type": "stream",
     "text": [
      "/Users/julianvanmeggelen/opt/anaconda3/lib/python3.8/site-packages/numpy/core/fromnumeric.py:3464: RuntimeWarning: Mean of empty slice.\n",
      "  return _methods._mean(a, axis=axis, dtype=dtype,\n",
      "/Users/julianvanmeggelen/opt/anaconda3/lib/python3.8/site-packages/numpy/core/_methods.py:192: RuntimeWarning: invalid value encountered in scalar divide\n",
      "  ret = ret.dtype.type(ret / rcount)\n"
     ]
    },
    {
     "name": "stdout",
     "output_type": "stream",
     "text": [
      "18061 0 25 18058.916666666668\n",
      "1.0\n",
      "(121, 8) (121, 1)\n",
      "Max reward for 17940.75 10\n",
      "10\n",
      "18058 0 10 18057.166666666668\n",
      "1.0\n",
      "(122, 8) (122, 1)\n",
      "Max reward for 17941.333333333332 10\n",
      "10\n",
      "17993 0 10 17992.166666666668\n",
      "1.0\n",
      "(123, 8) (123, 1)\n",
      "Max reward for 17899.583333333332 16\n",
      "16\n",
      "18020 0 16 18018.666666666668\n",
      "1.0\n",
      "(124, 8) (124, 1)\n",
      "Max reward for 18020.583333333332 20\n",
      "20\n",
      "18078 0 20 18076.333333333332\n",
      "1.0\n",
      "(125, 8) (125, 1)\n",
      "Max reward for 18086.333333333332 20\n",
      "20\n"
     ]
    },
    {
     "name": "stderr",
     "output_type": "stream",
     "text": [
      "/Users/julianvanmeggelen/opt/anaconda3/lib/python3.8/site-packages/numpy/core/fromnumeric.py:3464: RuntimeWarning: Mean of empty slice.\n",
      "  return _methods._mean(a, axis=axis, dtype=dtype,\n",
      "/Users/julianvanmeggelen/opt/anaconda3/lib/python3.8/site-packages/numpy/core/_methods.py:192: RuntimeWarning: invalid value encountered in scalar divide\n",
      "  ret = ret.dtype.type(ret / rcount)\n"
     ]
    },
    {
     "name": "stdout",
     "output_type": "stream",
     "text": [
      "17978 0 20 17976.333333333332\n",
      "1.0\n",
      "(126, 8) (126, 1)\n",
      "Max reward for 17940.75 10\n",
      "10\n",
      "17920 0 10 17919.166666666668\n",
      "1.0\n",
      "(127, 8) (127, 1)\n",
      "Max reward for 18078.5 10\n",
      "10\n",
      "17972 0 10 17971.166666666668\n",
      "1.0\n",
      "(128, 8) (128, 1)\n",
      "Max reward for 17930.416666666668 10\n",
      "10\n",
      "18013 0 10 18012.166666666668\n",
      "1.0\n",
      "(129, 8) (129, 1)\n",
      "Max reward for 18024.333333333332 12\n",
      "12\n",
      "18104 0 12 18103.0\n",
      "1.0\n",
      "(130, 8) (130, 1)\n",
      "Max reward for 17954.5 10\n",
      "10\n",
      "18118 0 10 18117.166666666668\n",
      "1.0\n",
      "(131, 8) (131, 1)\n",
      "Max reward for 18148.5 27\n",
      "27\n",
      "17861 0 27 17858.75\n",
      "1.0\n",
      "(132, 8) (132, 1)\n",
      "Max reward for 18078.5 27\n",
      "27\n"
     ]
    },
    {
     "name": "stderr",
     "output_type": "stream",
     "text": [
      "/Users/julianvanmeggelen/opt/anaconda3/lib/python3.8/site-packages/numpy/core/fromnumeric.py:3464: RuntimeWarning: Mean of empty slice.\n",
      "  return _methods._mean(a, axis=axis, dtype=dtype,\n",
      "/Users/julianvanmeggelen/opt/anaconda3/lib/python3.8/site-packages/numpy/core/_methods.py:192: RuntimeWarning: invalid value encountered in scalar divide\n",
      "  ret = ret.dtype.type(ret / rcount)\n"
     ]
    },
    {
     "name": "stdout",
     "output_type": "stream",
     "text": [
      "17972 0 27 17969.75\n",
      "1.0\n",
      "(133, 8) (133, 1)\n",
      "Max reward for 17940.75 14\n",
      "14\n",
      "18044 0 14 18042.833333333332\n",
      "1.0\n",
      "(134, 8) (134, 1)\n",
      "Max reward for 17928.25 13\n",
      "13\n",
      "17995 0 13 17993.916666666668\n",
      "1.0\n",
      "(135, 8) (135, 1)\n",
      "Max reward for 18018.666666666668 10\n",
      "10\n",
      "17979 0 10 17978.166666666668\n",
      "1.0\n",
      "(136, 8) (136, 1)\n",
      "Max reward for 17794.833333333332 10\n",
      "10\n",
      "17960 0 10 17959.166666666668\n",
      "1.0\n",
      "(137, 8) (137, 1)\n",
      "Max reward for 17887.583333333332 12\n",
      "12\n",
      "17939 0 12 17938.0\n",
      "1.0\n",
      "(138, 8) (138, 1)\n",
      "Max reward for 17887.583333333332 10\n",
      "10\n",
      "17947 0 10 17946.166666666668\n",
      "1.0\n",
      "(139, 8) (139, 1)\n",
      "Max reward for 17887.583333333332 20\n",
      "20\n",
      "18013 0 20 18011.333333333332\n",
      "1.0\n",
      "(140, 8) (140, 1)\n",
      "Max reward for 18078.5 29\n",
      "29\n",
      "18107 0 29 18104.583333333332\n",
      "1.0\n",
      "(141, 8) (141, 1)\n",
      "Max reward for 17976.333333333332 16\n",
      "16\n",
      "17917 0 16 17915.666666666668\n",
      "1.0\n",
      "(142, 8) (142, 1)\n",
      "Max reward for 17926.416666666668 10\n",
      "10\n",
      "17918 0 10 17917.166666666668\n",
      "1.0\n",
      "(143, 8) (143, 1)\n",
      "Max reward for 17887.583333333332 20\n",
      "20\n",
      "17968 0 20 17966.333333333332\n",
      "1.0\n",
      "(144, 8) (144, 1)\n",
      "Max reward for 17969.75 10\n",
      "10\n",
      "18078 0 10 18077.166666666668\n",
      "1.0\n",
      "(145, 8) (145, 1)\n",
      "Max reward for 18182.333333333332 10\n",
      "10\n",
      "18053 0 10 18052.166666666668\n",
      "1.0\n",
      "(146, 8) (146, 1)\n",
      "Max reward for 18148.5 29\n",
      "29\n",
      "18013 0 29 18010.583333333332\n",
      "1.0\n",
      "(147, 8) (147, 1)\n",
      "Max reward for 18002.333333333332 10\n",
      "10\n",
      "17861 0 10 17860.166666666668\n",
      "1.0\n",
      "(148, 8) (148, 1)\n",
      "Max reward for 17970.583333333332 16\n",
      "16\n",
      "17924 0 16 17922.666666666668\n",
      "1.0\n",
      "(149, 8) (149, 1)\n",
      "Max reward for 18076.333333333332 10\n",
      "10\n",
      "18084 0 10 18083.166666666668\n",
      "1.0\n",
      "(150, 8) (150, 1)\n",
      "Max reward for 18002.333333333332 12\n",
      "12\n",
      "18076 0 12 18075.0\n",
      "1.0\n",
      "(151, 8) (151, 1)\n",
      "Max reward for 17922.833333333332 10\n",
      "10\n",
      "17888 0 10 17887.166666666668\n",
      "1.0\n",
      "(152, 8) (152, 1)\n",
      "Max reward for 17887.583333333332 10\n",
      "10\n",
      "17996 0 10 17995.166666666668\n",
      "1.0\n",
      "(153, 8) (153, 1)\n",
      "Max reward for 17899.583333333332 20\n",
      "20\n",
      "17955 0 20 17953.333333333332\n",
      "1.0\n",
      "(154, 8) (154, 1)\n",
      "Max reward for 17887.583333333332 20\n",
      "20\n",
      "18031 0 20 18029.333333333332\n",
      "1.0\n",
      "(155, 8) (155, 1)\n",
      "Max reward for 17928.25 21\n",
      "21\n",
      "18101 0 21 18099.25\n",
      "1.0\n",
      "(156, 8) (156, 1)\n",
      "Max reward for 17954.5 10\n",
      "10\n",
      "17960 0 10 17959.166666666668\n",
      "1.0\n",
      "(157, 8) (157, 1)\n",
      "Max reward for 17887.583333333332 20\n",
      "20\n",
      "18148 0 20 18146.333333333332\n",
      "1.0\n",
      "(158, 8) (158, 1)\n",
      "Max reward for 17892.166666666668 10\n",
      "10\n",
      "18015 0 10 18014.166666666668\n",
      "1.0\n",
      "(159, 8) (159, 1)\n",
      "Max reward for 17899.583333333332 10\n",
      "10\n",
      "18128 0 10 18127.166666666668\n",
      "1.0\n",
      "(160, 8) (160, 1)\n",
      "Max reward for 17985.166666666668 10\n",
      "10\n",
      "18152 0 10 18151.166666666668\n",
      "1.0\n",
      "(161, 8) (161, 1)\n",
      "Max reward for 18151.166666666668 10\n",
      "10\n",
      "17987 0 10 17986.166666666668\n",
      "1.0\n",
      "(162, 8) (162, 1)\n",
      "Max reward for 17916.166666666668 10\n",
      "10\n",
      "18030 0 10 18029.166666666668\n",
      "1.0\n",
      "(163, 8) (163, 1)\n",
      "Max reward for 18182.333333333332 10\n",
      "10\n",
      "18088 0 10 18087.166666666668\n",
      "1.0\n",
      "(164, 8) (164, 1)\n",
      "Max reward for 18023.666666666668 20\n",
      "20\n",
      "17732 0 20 17730.333333333332\n",
      "1.0\n",
      "(165, 8) (165, 1)\n",
      "Max reward for 17969.75 10\n",
      "10\n",
      "18016 0 10 18015.166666666668\n",
      "1.0\n",
      "(166, 8) (166, 1)\n",
      "Max reward for 18058.916666666668 23\n",
      "23\n",
      "18107 0 23 18105.083333333332\n",
      "1.0\n",
      "(167, 8) (167, 1)\n",
      "Max reward for 17899.583333333332 10\n",
      "10\n"
     ]
    },
    {
     "data": {
      "text/plain": [
       "<sim.Environment.Environment at 0x7fcd21a59280>"
      ]
     },
     "execution_count": 50,
     "metadata": {},
     "output_type": "execute_result"
    }
   ],
   "source": [
    "from sklearn.linear_model import LinearRegression\n",
    "from sklearn.tree import DecisionTreeRegressor\n",
    "\n",
    "stopTime = 7*24*60*60\n",
    "env = Environment(stopTime=stopTime)\n",
    "\n",
    "model = LinearRegression()\n",
    "model = DecisionTreeRegressor()\n",
    "#sigmoid(2/(0.1*t+2)-0.5)\n",
    "loadBalancer = GreedyEpsilonLoadBalancer(nServers=10, environment=env, model = model, eta=lambda t: sigmoid(2-0.05*t), nServerRange=[10,30])\n",
    "\n",
    "requestTypes = [(0.5,1,0.1,10), (0.5,2,0.2,10)] #(prob, mu, sigma, cancelTime)\n",
    "arrivalsPerSecond = 14\n",
    "source = Source(arrivalsPerSecond, requestTypes, loadBalancer, env)\n",
    "\n",
    "schedule = np.array([5]) #12 periods\n",
    "periodLength = 1*60*60 #half an hour per period -> schedule repeated two times in 12 hours\n",
    "arrivalSchedule = ArrivalSchedule(periodLength,arrivalSchedule=schedule, environment=env, loadBalancer=loadBalancer, source=source)\n",
    "env.run(debug=False)"
   ]
  },
  {
   "cell_type": "code",
   "execution_count": 51,
   "metadata": {},
   "outputs": [
    {
     "ename": "KeyError",
     "evalue": "'requestCancelled'",
     "output_type": "error",
     "traceback": [
      "\u001b[0;31m---------------------------------------------------------------------------\u001b[0m",
      "\u001b[0;31mKeyError\u001b[0m                                  Traceback (most recent call last)",
      "\u001b[0;32m<ipython-input-51-94cfee36d7bd>\u001b[0m in \u001b[0;36m<module>\u001b[0;34m\u001b[0m\n\u001b[1;32m     11\u001b[0m \u001b[0mplt\u001b[0m\u001b[0;34m.\u001b[0m\u001b[0mhist\u001b[0m\u001b[0;34m(\u001b[0m\u001b[0menv\u001b[0m\u001b[0;34m.\u001b[0m\u001b[0mlogTime\u001b[0m\u001b[0;34m[\u001b[0m\u001b[0;34m'requestProcessed'\u001b[0m\u001b[0;34m]\u001b[0m\u001b[0;34m,\u001b[0m \u001b[0mbins\u001b[0m\u001b[0;34m=\u001b[0m\u001b[0mint\u001b[0m\u001b[0;34m(\u001b[0m\u001b[0mstopTime\u001b[0m\u001b[0;34m/\u001b[0m\u001b[0;36m60\u001b[0m\u001b[0;34m/\u001b[0m\u001b[0;36m60\u001b[0m\u001b[0;34m)\u001b[0m\u001b[0;34m)\u001b[0m\u001b[0;34m;\u001b[0m\u001b[0;34m\u001b[0m\u001b[0;34m\u001b[0m\u001b[0m\n\u001b[1;32m     12\u001b[0m \u001b[0mplt\u001b[0m\u001b[0;34m.\u001b[0m\u001b[0mfigure\u001b[0m\u001b[0;34m(\u001b[0m\u001b[0;34m)\u001b[0m\u001b[0;34m\u001b[0m\u001b[0;34m\u001b[0m\u001b[0m\n\u001b[0;32m---> 13\u001b[0;31m \u001b[0mplt\u001b[0m\u001b[0;34m.\u001b[0m\u001b[0mhist\u001b[0m\u001b[0;34m(\u001b[0m\u001b[0menv\u001b[0m\u001b[0;34m.\u001b[0m\u001b[0mlogTime\u001b[0m\u001b[0;34m[\u001b[0m\u001b[0;34m'requestCancelled'\u001b[0m\u001b[0;34m]\u001b[0m\u001b[0;34m,\u001b[0m \u001b[0mbins\u001b[0m\u001b[0;34m=\u001b[0m\u001b[0mint\u001b[0m\u001b[0;34m(\u001b[0m\u001b[0mstopTime\u001b[0m\u001b[0;34m/\u001b[0m\u001b[0;36m60\u001b[0m\u001b[0;34m/\u001b[0m\u001b[0;36m60\u001b[0m\u001b[0;34m)\u001b[0m\u001b[0;34m)\u001b[0m\u001b[0;34m;\u001b[0m\u001b[0;34m\u001b[0m\u001b[0;34m\u001b[0m\u001b[0m\n\u001b[0m",
      "\u001b[0;31mKeyError\u001b[0m: 'requestCancelled'"
     ]
    },
    {
     "data": {
      "image/png": "[encoded data removed]",
      "text/plain": [
       "<Figure size 432x288 with 1 Axes>"
      ]
     },
     "metadata": {
      "needs_background": "light"
     },
     "output_type": "display_data"
    },
    {
     "data": {
      "image/png": "[encoded data removed]",
      "text/plain": [
       "<Figure size 432x288 with 1 Axes>"
      ]
     },
     "metadata": {
      "needs_background": "light"
     },
     "output_type": "display_data"
    },
    {
     "data": {
      "image/png": "[encoded data removed]",
      "text/plain": [
       "<Figure size 432x288 with 1 Axes>"
      ]
     },
     "metadata": {
      "needs_background": "light"
     },
     "output_type": "display_data"
    },
    {
     "data": {
      "image/png": "[encoded data removed]",
      "text/plain": [
       "<Figure size 432x288 with 1 Axes>"
      ]
     },
     "metadata": {
      "needs_background": "light"
     },
     "output_type": "display_data"
    },
    {
     "data": {
      "image/png": "[encoded data removed]",
      "text/plain": [
       "<Figure size 432x288 with 1 Axes>"
      ]
     },
     "metadata": {
      "needs_background": "light"
     },
     "output_type": "display_data"
    },
    {
     "data": {
      "image/png": "[encoded data removed]",
      "text/plain": [
       "<Figure size 432x288 with 1 Axes>"
      ]
     },
     "metadata": {
      "needs_background": "light"
     },
     "output_type": "display_data"
    },
    {
     "data": {
      "text/plain": [
       "<Figure size 432x288 with 0 Axes>"
      ]
     },
     "metadata": {},
     "output_type": "display_data"
    }
   ],
   "source": [
    "plt.plot(env.log['eta'])\n",
    "plt.figure()\n",
    "plt.plot(env.log['numberOfServers'])\n",
    "plt.figure()\n",
    "plt.plot(env.log['greedyEpsilonActionType'])\n",
    "plt.figure()\n",
    "plt.plot(env.log['reward'])\n",
    "plt.figure()\n",
    "plt.hist(env.logTime['arrivalEvent'], bins=int(stopTime/60/60));\n",
    "plt.figure()\n",
    "plt.hist(env.logTime['requestProcessed'], bins=int(stopTime/60/60));\n",
    "plt.figure()\n",
    "plt.hist(env.logTime['requestCancelled'], bins=int(stopTime/60/60));"
   ]
  },
  {
   "cell_type": "code",
   "execution_count": 41,
   "metadata": {},
   "outputs": [
    {
     "data": {
      "text/plain": [
       "Text(0, 0.5, 'y')"
      ]
     },
     "execution_count": 41,
     "metadata": {},
     "output_type": "execute_result"
    },
    {
     "data": {
      "image/png": "[encoded data removed]",
      "text/plain": [
       "<Figure size 432x288 with 1 Axes>"
      ]
     },
     "metadata": {
      "needs_background": "light"
     },
     "output_type": "display_data"
    }
   ],
   "source": [
    "plt.scatter(loadBalancer.X[:-1,7],loadBalancer.y)\n",
    "plt.xlabel('x')\n",
    "plt.ylabel('y')"
   ]
  },
  {
   "cell_type": "code",
   "execution_count": 52,
   "metadata": {},
   "outputs": [
    {
     "data": {
      "text/plain": [
       "<matplotlib.collections.PathCollection at 0x7fcc143d57f0>"
      ]
     },
     "execution_count": 52,
     "metadata": {},
     "output_type": "execute_result"
    },
    {
     "data": {
      "image/png": "[encoded data removed]",
      "text/plain": [
       "<Figure size 432x288 with 1 Axes>"
      ]
     },
     "metadata": {
      "needs_background": "light"
     },
     "output_type": "display_data"
    }
   ],
   "source": [
    "plt.scatter(env.log['numberOfServers'][0::2],env.log['reward'])"
   ]
  },
  {
   "cell_type": "code",
   "execution_count": 31,
   "metadata": {},
   "outputs": [
    {
     "data": {
      "text/plain": [
       "[<matplotlib.lines.Line2D at 0x7fccd9696160>]"
      ]
     },
     "execution_count": 31,
     "metadata": {},
     "output_type": "execute_result"
    },
    {
     "data": {
      "image/png": "[encoded data removed]",
      "text/plain": [
       "<Figure size 432x288 with 1 Axes>"
      ]
     },
     "metadata": {
      "needs_background": "light"
     },
     "output_type": "display_data"
    }
   ],
   "source": [
    "\n",
    "def sigmoid(x):\n",
    "      return 1 / (1 + np.exp(-x))\n",
    "\n",
    "x = np.arange(0,120,1)\n",
    "plt.plot(x, sigmoid(2/(0.1*x+2)-0.5))\n",
    "plt.plot(x, sigmoid(1-0.1*x))"
   ]
  },
  {
   "cell_type": "code",
   "execution_count": 38,
   "metadata": {},
   "outputs": [
    {
     "data": {
      "text/plain": [
       "[<matplotlib.lines.Line2D at 0x7fcca0028790>]"
      ]
     },
     "execution_count": 38,
     "metadata": {},
     "output_type": "execute_result"
    },
    {
     "data": {
      "image/png": "[encoded data removed]",
      "text/plain": [
       "<Figure size 432x288 with 1 Axes>"
      ]
     },
     "metadata": {
      "needs_background": "light"
     },
     "output_type": "display_data"
    }
   ],
   "source": [
    "x = np.arange(0,120,1)\n",
    "plt.plot(x, sigmoid(2-0.05*x))"
   ]
  },
  {
   "cell_type": "code",
   "execution_count": null,
   "metadata": {},
   "outputs": [],
   "source": []
  }
 ],
 "metadata": {
  "kernelspec": {
   "display_name": "base",
   "language": "python",
   "name": "python3"
  },
  "language_info": {
   "codemirror_mode": {
    "name": "ipython",
    "version": 3
   },
   "file_extension": ".py",
   "mimetype": "text/x-python",
   "name": "python",
   "nbconvert_exporter": "python",
   "pygments_lexer": "ipython3",
   "version": "3.8.3"
  },
  "orig_nbformat": 4,
  "vscode": {
   "interpreter": {
    "hash": "2ed55c8a3b358c2f14bd6337b3a23ad56aa9692a3206675e532b0b29d35d2a5c"
   }
  }
 },
 "nbformat": 4,
 "nbformat_minor": 2
}
