{
 "cells": [
  {
   "cell_type": "code",
   "execution_count": 4,
   "metadata": {},
   "outputs": [],
   "source": [
    "import sys\n",
    "sys.path.insert(0, '..')\n",
    "\n",
    "from sim.LoadBalancer import LoadBalancer\n",
    "import numpy as np\n",
    "import random"
   ]
  },
  {
   "attachments": {},
   "cell_type": "markdown",
   "metadata": {},
   "source": [
    "### Implementing the Epsilon Greedy algorithm in our LoadBalancer structure\n",
    "We use the LoadBalancer as the base class and import the epsilong greedy algorithm"
   ]
  },
  {
   "cell_type": "code",
   "execution_count": null,
   "metadata": {},
   "outputs": [],
   "source": [
    "class GreedyEpsilonLoadBalancer(LoadBalancer):\n",
    "    def __init__(self, nServers, environment, model, processReward=1, cancelReward=10, serverReward=-300, eta=0.2, nServerRange = (1,40)):\n",
    "        \"\"\"\n",
    "            model: obj with methods predict, fit, fit_partial etc.\n",
    "            eta: float or callable(periodIndex: int -> float)\n",
    "        \"\"\"\n",
    "        super().__init__(nServers, environment)\n",
    "        self.model = model # a model that takes (N_t, X_t) and predicts the reward of the next time period\n",
    "        self.agg = {'totalInQueue': np.mean,'requestStartWaiting':np.sum,'arrivalEvent':np.sum,'requestWaitingTime': np.mean,'requestProcessed':np.sum,'totalTimeInSystem':np.mean,'requestCancelled':np.sum}\n",
    "        self.currentPeriod = 0\n",
    "        self.processReward, self.cancelReward, self.serverReward = processReward, cancelReward, serverReward\n",
    "        self.nServerRange = nServerRange #the range for the bernoulli to sample from\n",
    "\n",
    "    def getEta(self):\n",
    "        if callable(self.eta):\n",
    "            return self.eta(self.currentPeriod)\n",
    "        else:\n",
    "            return self.eta\n",
    "\n",
    "    def getPreviousPeriodContext(self):\n",
    "        \"\"\"\n",
    "        Get the context from the period that just ended (potentially add lags here from previous periods)\n",
    "        \"\"\"\n",
    "        previousPeriodData = self.environment.getPeriodLog() #returns {key: values}\n",
    "        previousPeriodContext = {key: self.agg[key](vals) for key,vals in previousPeriodData.items()} #apply aggregation: go from lists to scalars\n",
    "        self.environment.resetPeriod()\n",
    "        return previousPeriodContext\n",
    "\n",
    "    def getPreviousPeriodReward(self, context: dict):\n",
    "        \"\"\"\n",
    "        Get the reward of the period that just ended\n",
    "        \"\"\"\n",
    "        nProcessed = context['requestProcessed']\n",
    "        nCancelled = context['requestCancelled']\n",
    "        nServers = self.nServers\n",
    "        reward = nProcessed * self.processReward + nCancelled * self.cancelReward + nServers * self.serverReward\n",
    "\n",
    "    def getNextPeriodNumberOfServers(self, context):\n",
    "        #input the context into the model and maximizy the output w.r.t N\n",
    "        draw = random.randint(0,1)\n",
    "        eta = self.getEta()\n",
    "        nServers = None\n",
    "        if draw < eta:\n",
    "            #Take random action\n",
    "            nServers = random.randint(self.nServerRange[0], self.nServerRange[1])\n",
    "        else:\n",
    "            #Use model to determine N that maximizes the reward\n",
    "            raise NotImplementedError\n",
    "\n",
    "        return nServers\n",
    "        \n",
    "    def updateModel(self, context, reward):\n",
    "        #update the model using the context, nServers and observed reward\n",
    "        return\n",
    "\n",
    "    def onPeriodEnd(self):\n",
    "        #Get the reward of the current period\n",
    "        previousPeriodContext = self.getPreviousPeriodContext()\n",
    "        previousPeriodReward = self.getPreviousPeriodReward(previousPeriodContext)\n",
    "\n",
    "\n",
    "\n"
   ]
  }
 ],
 "metadata": {
  "kernelspec": {
   "display_name": "base",
   "language": "python",
   "name": "python3"
  },
  "language_info": {
   "codemirror_mode": {
    "name": "ipython",
    "version": 3
   },
   "file_extension": ".py",
   "mimetype": "text/x-python",
   "name": "python",
   "nbconvert_exporter": "python",
   "pygments_lexer": "ipython3",
   "version": "3.8.3"
  },
  "orig_nbformat": 4,
  "vscode": {
   "interpreter": {
    "hash": "2ed55c8a3b358c2f14bd6337b3a23ad56aa9692a3206675e532b0b29d35d2a5c"
   }
  }
 },
 "nbformat": 4,
 "nbformat_minor": 2
}
