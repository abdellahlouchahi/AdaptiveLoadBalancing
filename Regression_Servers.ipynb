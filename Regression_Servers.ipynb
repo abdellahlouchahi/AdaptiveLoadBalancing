{
  "nbformat": 4,
  "nbformat_minor": 0,
  "metadata": {
    "colab": {
      "provenance": [],
      "include_colab_link": true
    },
    "kernelspec": {
      "name": "python3",
      "display_name": "Python 3"
    },
    "language_info": {
      "name": "python"
    }
  },
  "cells": [
    {
      "cell_type": "markdown",
      "metadata": {
        "id": "view-in-github",
        "colab_type": "text"
      },
      "source": [
        "<a href=\"https://colab.research.google.com/github/abdellahlouchahi/AdaptiveLoadBalancing/blob/main/Regression_Servers.ipynb\" target=\"_parent\"><img src=\"https://colab.research.google.com/assets/colab-badge.svg\" alt=\"Open In Colab\"/></a>"
      ]
    },
    {
      "cell_type": "code",
      "execution_count": 17,
      "metadata": {
        "id": "z-I46ipejA-9"
      },
      "outputs": [],
      "source": [
        "import pandas as pd\n",
        "import numpy as np\n",
        "import statsmodels.api as sm\n",
        "import matplotlib.pyplot as plt\n",
        "%matplotlib inline\n",
        "import seaborn as sns\n",
        "from sklearn.model_selection import train_test_split\n",
        "from sklearn.preprocessing import StandardScaler\n",
        "from sklearn.linear_model import LinearRegression\n",
        "from sklearn.preprocessing import PolynomialFeatures\n",
        "from sklearn import metrics\n",
        "from sklearn.metrics import mean_absolute_error, mean_squared_error, r2_score\n",
        "from sklearn import linear_model\n",
        "import pickle"
      ]
    },
    {
      "cell_type": "code",
      "source": [
        "#url = 'https://raw.githubusercontent.com/julianvanmeggelen/AdaptiveLoadBalancing/main/data/simulatedData_2.csv'\n",
        "url = 'https://raw.githubusercontent.com/julianvanmeggelen/AdaptiveLoadBalancing/main/data/simulatedData_4.csv'\n",
        "df = pd.DataFrame(pd.read_csv(url))\n",
        "# df = df.drop(columns=['CurrentPeriodNumberOfServers'])"
      ],
      "metadata": {
        "id": "7pooXTMZjU9O"
      },
      "execution_count": 18,
      "outputs": []
    },
    {
      "cell_type": "code",
      "source": [
        "df.info()"
      ],
      "metadata": {
        "colab": {
          "base_uri": "https://localhost:8080/"
        },
        "id": "IipY5E4fj7bL",
        "outputId": "fd5eba10-02e0-4605-976b-d9498484f339"
      },
      "execution_count": 19,
      "outputs": [
        {
          "output_type": "stream",
          "name": "stdout",
          "text": [
            "<class 'pandas.core.frame.DataFrame'>\n",
            "RangeIndex: 672 entries, 0 to 671\n",
            "Data columns (total 13 columns):\n",
            " #   Column                        Non-Null Count  Dtype  \n",
            "---  ------                        --------------  -----  \n",
            " 0   Unnamed: 0                    672 non-null    int64  \n",
            " 1   periodIndex                   672 non-null    int64  \n",
            " 2   totalInQueue                  672 non-null    float64\n",
            " 3   requestStartWaiting           672 non-null    int64  \n",
            " 4   arrivalEvent                  672 non-null    int64  \n",
            " 5   requestWaitingTime            672 non-null    float64\n",
            " 6   requestProcessed              672 non-null    int64  \n",
            " 7   totalTimeInSystem             672 non-null    float64\n",
            " 8   requestCancelled              672 non-null    float64\n",
            " 9   nextPeriodOptimalServers      672 non-null    float64\n",
            " 10  CurrentPeriodNumberOfServers  672 non-null    int64  \n",
            " 11  nextPeriodReward              671 non-null    float64\n",
            " 12  periodReward                  672 non-null    float64\n",
            "dtypes: float64(7), int64(6)\n",
            "memory usage: 68.4 KB\n"
          ]
        }
      ]
    },
    {
      "cell_type": "code",
      "source": [
        "df.isnull().sum()"
      ],
      "metadata": {
        "colab": {
          "base_uri": "https://localhost:8080/"
        },
        "id": "a6dFvlUNmHtu",
        "outputId": "9d1d02b6-2d84-4c20-b97b-91deea61c6d0"
      },
      "execution_count": 20,
      "outputs": [
        {
          "output_type": "execute_result",
          "data": {
            "text/plain": [
              "Unnamed: 0                      0\n",
              "periodIndex                     0\n",
              "totalInQueue                    0\n",
              "requestStartWaiting             0\n",
              "arrivalEvent                    0\n",
              "requestWaitingTime              0\n",
              "requestProcessed                0\n",
              "totalTimeInSystem               0\n",
              "requestCancelled                0\n",
              "nextPeriodOptimalServers        0\n",
              "CurrentPeriodNumberOfServers    0\n",
              "nextPeriodReward                1\n",
              "periodReward                    0\n",
              "dtype: int64"
            ]
          },
          "metadata": {},
          "execution_count": 20
        }
      ]
    },
    {
      "cell_type": "code",
      "source": [
        "df = df.fillna(0)\n",
        "df = df.drop(columns=['periodIndex'])"
      ],
      "metadata": {
        "id": "oAAVzhM9oBMN"
      },
      "execution_count": 21,
      "outputs": []
    },
    {
      "cell_type": "code",
      "source": [
        "df.describe()"
      ],
      "metadata": {
        "colab": {
          "base_uri": "https://localhost:8080/",
          "height": 382
        },
        "id": "tvpowAPSmkyr",
        "outputId": "70925a6b-405a-4411-8b2a-d17f0de0700c"
      },
      "execution_count": 22,
      "outputs": [
        {
          "output_type": "execute_result",
          "data": {
            "text/plain": [
              "       Unnamed: 0  totalInQueue  requestStartWaiting  arrivalEvent  \\\n",
              "count  672.000000    672.000000            672.00000     672.00000   \n",
              "mean   335.500000      7.379490          60787.99256   60787.99256   \n",
              "std    194.133974      1.711003          16478.33212   16478.33212   \n",
              "min      0.000000      3.359002          25530.00000   25530.00000   \n",
              "25%    167.750000      6.154842          47797.00000   47797.00000   \n",
              "50%    335.500000      7.605196          63842.50000   63842.50000   \n",
              "75%    503.250000      8.588642          72697.25000   72697.25000   \n",
              "max    671.000000     11.181715          87224.00000   87224.00000   \n",
              "\n",
              "       requestWaitingTime  requestProcessed  totalTimeInSystem  \\\n",
              "count          672.000000        672.000000         672.000000   \n",
              "mean             0.331269      60787.940476           1.831314   \n",
              "std              0.033676      16478.031899           0.033934   \n",
              "min              0.243267      25550.000000           1.743175   \n",
              "25%              0.306227      47795.500000           1.806580   \n",
              "50%              0.329346      63849.500000           1.829019   \n",
              "75%              0.356269      72687.500000           1.856840   \n",
              "max              0.436213      87209.000000           1.937712   \n",
              "\n",
              "       requestCancelled  nextPeriodOptimalServers  \\\n",
              "count        672.000000                672.000000   \n",
              "mean           0.014881                 30.651786   \n",
              "std            0.132898                  8.071635   \n",
              "min            0.000000                  0.000000   \n",
              "25%            0.000000                 24.750000   \n",
              "50%            0.000000                 32.000000   \n",
              "75%            0.000000                 36.250000   \n",
              "max            2.000000                 44.000000   \n",
              "\n",
              "       CurrentPeriodNumberOfServers  nextPeriodReward  periodReward  \n",
              "count                    672.000000        672.000000    672.000000  \n",
              "mean                      30.683036      51530.851190  51582.985119  \n",
              "std                        7.993056      14207.721311  14082.073214  \n",
              "min                       14.000000          0.000000  21350.000000  \n",
              "25%                       24.750000      40521.500000  40521.500000  \n",
              "50%                       32.000000      54249.500000  54249.500000  \n",
              "75%                       36.250000      61887.500000  61887.500000  \n",
              "max                       44.000000      74309.000000  74309.000000  "
            ],
            "text/html": [
              "\n",
              "  <div id=\"df-8a012c00-a080-49f1-b050-31159ff10f2f\">\n",
              "    <div class=\"colab-df-container\">\n",
              "      <div>\n",
              "<style scoped>\n",
              "    .dataframe tbody tr th:only-of-type {\n",
              "        vertical-align: middle;\n",
              "    }\n",
              "\n",
              "    .dataframe tbody tr th {\n",
              "        vertical-align: top;\n",
              "    }\n",
              "\n",
              "    .dataframe thead th {\n",
              "        text-align: right;\n",
              "    }\n",
              "</style>\n",
              "<table border=\"1\" class=\"dataframe\">\n",
              "  <thead>\n",
              "    <tr style=\"text-align: right;\">\n",
              "      <th></th>\n",
              "      <th>Unnamed: 0</th>\n",
              "      <th>totalInQueue</th>\n",
              "      <th>requestStartWaiting</th>\n",
              "      <th>arrivalEvent</th>\n",
              "      <th>requestWaitingTime</th>\n",
              "      <th>requestProcessed</th>\n",
              "      <th>totalTimeInSystem</th>\n",
              "      <th>requestCancelled</th>\n",
              "      <th>nextPeriodOptimalServers</th>\n",
              "      <th>CurrentPeriodNumberOfServers</th>\n",
              "      <th>nextPeriodReward</th>\n",
              "      <th>periodReward</th>\n",
              "    </tr>\n",
              "  </thead>\n",
              "  <tbody>\n",
              "    <tr>\n",
              "      <th>count</th>\n",
              "      <td>672.000000</td>\n",
              "      <td>672.000000</td>\n",
              "      <td>672.00000</td>\n",
              "      <td>672.00000</td>\n",
              "      <td>672.000000</td>\n",
              "      <td>672.000000</td>\n",
              "      <td>672.000000</td>\n",
              "      <td>672.000000</td>\n",
              "      <td>672.000000</td>\n",
              "      <td>672.000000</td>\n",
              "      <td>672.000000</td>\n",
              "      <td>672.000000</td>\n",
              "    </tr>\n",
              "    <tr>\n",
              "      <th>mean</th>\n",
              "      <td>335.500000</td>\n",
              "      <td>7.379490</td>\n",
              "      <td>60787.99256</td>\n",
              "      <td>60787.99256</td>\n",
              "      <td>0.331269</td>\n",
              "      <td>60787.940476</td>\n",
              "      <td>1.831314</td>\n",
              "      <td>0.014881</td>\n",
              "      <td>30.651786</td>\n",
              "      <td>30.683036</td>\n",
              "      <td>51530.851190</td>\n",
              "      <td>51582.985119</td>\n",
              "    </tr>\n",
              "    <tr>\n",
              "      <th>std</th>\n",
              "      <td>194.133974</td>\n",
              "      <td>1.711003</td>\n",
              "      <td>16478.33212</td>\n",
              "      <td>16478.33212</td>\n",
              "      <td>0.033676</td>\n",
              "      <td>16478.031899</td>\n",
              "      <td>0.033934</td>\n",
              "      <td>0.132898</td>\n",
              "      <td>8.071635</td>\n",
              "      <td>7.993056</td>\n",
              "      <td>14207.721311</td>\n",
              "      <td>14082.073214</td>\n",
              "    </tr>\n",
              "    <tr>\n",
              "      <th>min</th>\n",
              "      <td>0.000000</td>\n",
              "      <td>3.359002</td>\n",
              "      <td>25530.00000</td>\n",
              "      <td>25530.00000</td>\n",
              "      <td>0.243267</td>\n",
              "      <td>25550.000000</td>\n",
              "      <td>1.743175</td>\n",
              "      <td>0.000000</td>\n",
              "      <td>0.000000</td>\n",
              "      <td>14.000000</td>\n",
              "      <td>0.000000</td>\n",
              "      <td>21350.000000</td>\n",
              "    </tr>\n",
              "    <tr>\n",
              "      <th>25%</th>\n",
              "      <td>167.750000</td>\n",
              "      <td>6.154842</td>\n",
              "      <td>47797.00000</td>\n",
              "      <td>47797.00000</td>\n",
              "      <td>0.306227</td>\n",
              "      <td>47795.500000</td>\n",
              "      <td>1.806580</td>\n",
              "      <td>0.000000</td>\n",
              "      <td>24.750000</td>\n",
              "      <td>24.750000</td>\n",
              "      <td>40521.500000</td>\n",
              "      <td>40521.500000</td>\n",
              "    </tr>\n",
              "    <tr>\n",
              "      <th>50%</th>\n",
              "      <td>335.500000</td>\n",
              "      <td>7.605196</td>\n",
              "      <td>63842.50000</td>\n",
              "      <td>63842.50000</td>\n",
              "      <td>0.329346</td>\n",
              "      <td>63849.500000</td>\n",
              "      <td>1.829019</td>\n",
              "      <td>0.000000</td>\n",
              "      <td>32.000000</td>\n",
              "      <td>32.000000</td>\n",
              "      <td>54249.500000</td>\n",
              "      <td>54249.500000</td>\n",
              "    </tr>\n",
              "    <tr>\n",
              "      <th>75%</th>\n",
              "      <td>503.250000</td>\n",
              "      <td>8.588642</td>\n",
              "      <td>72697.25000</td>\n",
              "      <td>72697.25000</td>\n",
              "      <td>0.356269</td>\n",
              "      <td>72687.500000</td>\n",
              "      <td>1.856840</td>\n",
              "      <td>0.000000</td>\n",
              "      <td>36.250000</td>\n",
              "      <td>36.250000</td>\n",
              "      <td>61887.500000</td>\n",
              "      <td>61887.500000</td>\n",
              "    </tr>\n",
              "    <tr>\n",
              "      <th>max</th>\n",
              "      <td>671.000000</td>\n",
              "      <td>11.181715</td>\n",
              "      <td>87224.00000</td>\n",
              "      <td>87224.00000</td>\n",
              "      <td>0.436213</td>\n",
              "      <td>87209.000000</td>\n",
              "      <td>1.937712</td>\n",
              "      <td>2.000000</td>\n",
              "      <td>44.000000</td>\n",
              "      <td>44.000000</td>\n",
              "      <td>74309.000000</td>\n",
              "      <td>74309.000000</td>\n",
              "    </tr>\n",
              "  </tbody>\n",
              "</table>\n",
              "</div>\n",
              "      <button class=\"colab-df-convert\" onclick=\"convertToInteractive('df-8a012c00-a080-49f1-b050-31159ff10f2f')\"\n",
              "              title=\"Convert this dataframe to an interactive table.\"\n",
              "              style=\"display:none;\">\n",
              "        \n",
              "  <svg xmlns=\"http://www.w3.org/2000/svg\" height=\"24px\"viewBox=\"0 0 24 24\"\n",
              "       width=\"24px\">\n",
              "    <path d=\"M0 0h24v24H0V0z\" fill=\"none\"/>\n",
              "    <path d=\"M18.56 5.44l.94 2.06.94-2.06 2.06-.94-2.06-.94-.94-2.06-.94 2.06-2.06.94zm-11 1L8.5 8.5l.94-2.06 2.06-.94-2.06-.94L8.5 2.5l-.94 2.06-2.06.94zm10 10l.94 2.06.94-2.06 2.06-.94-2.06-.94-.94-2.06-.94 2.06-2.06.94z\"/><path d=\"M17.41 7.96l-1.37-1.37c-.4-.4-.92-.59-1.43-.59-.52 0-1.04.2-1.43.59L10.3 9.45l-7.72 7.72c-.78.78-.78 2.05 0 2.83L4 21.41c.39.39.9.59 1.41.59.51 0 1.02-.2 1.41-.59l7.78-7.78 2.81-2.81c.8-.78.8-2.07 0-2.86zM5.41 20L4 18.59l7.72-7.72 1.47 1.35L5.41 20z\"/>\n",
              "  </svg>\n",
              "      </button>\n",
              "      \n",
              "  <style>\n",
              "    .colab-df-container {\n",
              "      display:flex;\n",
              "      flex-wrap:wrap;\n",
              "      gap: 12px;\n",
              "    }\n",
              "\n",
              "    .colab-df-convert {\n",
              "      background-color: #E8F0FE;\n",
              "      border: none;\n",
              "      border-radius: 50%;\n",
              "      cursor: pointer;\n",
              "      display: none;\n",
              "      fill: #1967D2;\n",
              "      height: 32px;\n",
              "      padding: 0 0 0 0;\n",
              "      width: 32px;\n",
              "    }\n",
              "\n",
              "    .colab-df-convert:hover {\n",
              "      background-color: #E2EBFA;\n",
              "      box-shadow: 0px 1px 2px rgba(60, 64, 67, 0.3), 0px 1px 3px 1px rgba(60, 64, 67, 0.15);\n",
              "      fill: #174EA6;\n",
              "    }\n",
              "\n",
              "    [theme=dark] .colab-df-convert {\n",
              "      background-color: #3B4455;\n",
              "      fill: #D2E3FC;\n",
              "    }\n",
              "\n",
              "    [theme=dark] .colab-df-convert:hover {\n",
              "      background-color: #434B5C;\n",
              "      box-shadow: 0px 1px 3px 1px rgba(0, 0, 0, 0.15);\n",
              "      filter: drop-shadow(0px 1px 2px rgba(0, 0, 0, 0.3));\n",
              "      fill: #FFFFFF;\n",
              "    }\n",
              "  </style>\n",
              "\n",
              "      <script>\n",
              "        const buttonEl =\n",
              "          document.querySelector('#df-8a012c00-a080-49f1-b050-31159ff10f2f button.colab-df-convert');\n",
              "        buttonEl.style.display =\n",
              "          google.colab.kernel.accessAllowed ? 'block' : 'none';\n",
              "\n",
              "        async function convertToInteractive(key) {\n",
              "          const element = document.querySelector('#df-8a012c00-a080-49f1-b050-31159ff10f2f');\n",
              "          const dataTable =\n",
              "            await google.colab.kernel.invokeFunction('convertToInteractive',\n",
              "                                                     [key], {});\n",
              "          if (!dataTable) return;\n",
              "\n",
              "          const docLinkHtml = 'Like what you see? Visit the ' +\n",
              "            '<a target=\"_blank\" href=https://colab.research.google.com/notebooks/data_table.ipynb>data table notebook</a>'\n",
              "            + ' to learn more about interactive tables.';\n",
              "          element.innerHTML = '';\n",
              "          dataTable['output_type'] = 'display_data';\n",
              "          await google.colab.output.renderOutput(dataTable, element);\n",
              "          const docLink = document.createElement('div');\n",
              "          docLink.innerHTML = docLinkHtml;\n",
              "          element.appendChild(docLink);\n",
              "        }\n",
              "      </script>\n",
              "    </div>\n",
              "  </div>\n",
              "  "
            ]
          },
          "metadata": {},
          "execution_count": 22
        }
      ]
    },
    {
      "cell_type": "code",
      "source": [
        "X = df.drop(['nextPeriodReward'], axis = 1)\n",
        "y = df['nextPeriodReward']"
      ],
      "metadata": {
        "id": "GniskIJBmzp6"
      },
      "execution_count": 23,
      "outputs": []
    },
    {
      "cell_type": "code",
      "source": [
        "X_train, X_test, y_train, y_test = train_test_split(X, y, test_size = 0.3)"
      ],
      "metadata": {
        "id": "BeNt_SbbnTJL"
      },
      "execution_count": 24,
      "outputs": []
    },
    {
      "cell_type": "code",
      "source": [
        "scaler = StandardScaler()"
      ],
      "metadata": {
        "id": "sXNRAkeFnX3I"
      },
      "execution_count": 25,
      "outputs": []
    },
    {
      "cell_type": "code",
      "source": [
        "X_train = scaler.fit_transform(X_train)\n",
        "X_test = scaler.transform(X_test)"
      ],
      "metadata": {
        "id": "apu0o8g_nsWz"
      },
      "execution_count": 26,
      "outputs": []
    },
    {
      "cell_type": "code",
      "source": [
        "model = LinearRegression()"
      ],
      "metadata": {
        "id": "RJ42ujdqnxvY"
      },
      "execution_count": 27,
      "outputs": []
    },
    {
      "cell_type": "code",
      "source": [
        "model.fit(X_train, y_train)"
      ],
      "metadata": {
        "colab": {
          "base_uri": "https://localhost:8080/"
        },
        "id": "LkxUq9xXn6kO",
        "outputId": "f9950b75-8d3c-4558-92cd-7272493006bb"
      },
      "execution_count": 28,
      "outputs": [
        {
          "output_type": "execute_result",
          "data": {
            "text/plain": [
              "LinearRegression()"
            ]
          },
          "metadata": {},
          "execution_count": 28
        }
      ]
    },
    {
      "cell_type": "code",
      "source": [
        "pred = model.predict(X_test)"
      ],
      "metadata": {
        "id": "ES85Vukvn9b7"
      },
      "execution_count": 29,
      "outputs": []
    },
    {
      "cell_type": "code",
      "source": [
        "print(\"MAE: \", (metrics.mean_absolute_error(pred, y_test)))\n",
        "print(\"MSE: \", (metrics.mean_squared_error(pred, y_test)))\n",
        "print(\"R2 score: \", metrics.r2_score(pred, y_test))"
      ],
      "metadata": {
        "colab": {
          "base_uri": "https://localhost:8080/"
        },
        "id": "C9t1oDRcoHbt",
        "outputId": "354f8c7a-f557-495f-bbfd-4b0d1acba4ed"
      },
      "execution_count": 30,
      "outputs": [
        {
          "output_type": "stream",
          "name": "stdout",
          "text": [
            "MAE:  540.1016154901727\n",
            "MSE:  395354.3229154208\n",
            "R2 score:  0.9979826321620058\n"
          ]
        }
      ]
    },
    {
      "cell_type": "code",
      "source": [
        "sns.regplot(x=pred, y=y_test)\n",
        "plt.xlabel(\"Predicted Servers\")\n",
        "plt.ylabel('Actual Servers')\n",
        "plt.title(\"Actual vs Predicted Servers\")"
      ],
      "metadata": {
        "colab": {
          "base_uri": "https://localhost:8080/",
          "height": 313
        },
        "id": "5AXJKIASogDw",
        "outputId": "d2863338-e91d-49d5-9168-5f1f7e2b1cd1"
      },
      "execution_count": 31,
      "outputs": [
        {
          "output_type": "execute_result",
          "data": {
            "text/plain": [
              "Text(0.5, 1.0, 'Actual vs Predicted Servers')"
            ]
          },
          "metadata": {},
          "execution_count": 31
        },
        {
          "output_type": "display_data",
          "data": {
            "text/plain": [
              "<Figure size 432x288 with 1 Axes>"
            ],
            "image/png": "[encoded data removed]"
          },
          "metadata": {
            "needs_background": "light"
          }
        }
      ]
    },
    {
      "cell_type": "code",
      "source": [
        "pickle.dump(model, open('lin_reg_model.pkl', 'wb'))"
      ],
      "metadata": {
        "id": "1nzG4bAuG_Cm"
      },
      "execution_count": 52,
      "outputs": []
    },
    {
      "cell_type": "markdown",
      "source": [
        "Polynomial Regression"
      ],
      "metadata": {
        "id": "rizjqg0Zpw_U"
      }
    },
    {
      "cell_type": "code",
      "source": [
        "transformer = PolynomialFeatures(degree=2, include_bias=False)"
      ],
      "metadata": {
        "id": "DAHAfLZfpzYX"
      },
      "execution_count": 33,
      "outputs": []
    },
    {
      "cell_type": "code",
      "source": [
        "X = df.drop(['nextPeriodReward'], axis = 1)\n",
        "y = df['nextPeriodReward']"
      ],
      "metadata": {
        "id": "ZZf-PYhGp57G"
      },
      "execution_count": 34,
      "outputs": []
    },
    {
      "cell_type": "code",
      "source": [
        "x_ = PolynomialFeatures(degree=2, include_bias=False).fit_transform(X)"
      ],
      "metadata": {
        "id": "o-1ogbrHqEwE"
      },
      "execution_count": 35,
      "outputs": []
    },
    {
      "cell_type": "code",
      "source": [
        "x_"
      ],
      "metadata": {
        "colab": {
          "base_uri": "https://localhost:8080/"
        },
        "id": "1q9TeBrpqUVw",
        "outputId": "26ecbb7d-9455-406e-c15d-27055e6e7bf1"
      },
      "execution_count": 36,
      "outputs": [
        {
          "output_type": "execute_result",
          "data": {
            "text/plain": [
              "array([[0.00000000e+00, 5.95161769e+00, 4.13580000e+04, ...,\n",
              "        4.41000000e+02, 7.35714000e+05, 1.22738116e+09],\n",
              "       [1.00000000e+00, 4.62040094e+00, 3.25160000e+04, ...,\n",
              "        2.89000000e+02, 4.66276000e+05, 7.52295184e+08],\n",
              "       [2.00000000e+00, 4.31617996e+00, 2.89230000e+04, ...,\n",
              "        2.25000000e+02, 3.66330000e+05, 5.96434084e+08],\n",
              "       ...,\n",
              "       [6.69000000e+02, 9.33565872e+00, 8.39090000e+04, ...,\n",
              "        1.76400000e+03, 2.99493600e+06, 5.08483086e+09],\n",
              "       [6.70000000e+02, 8.76198867e+00, 7.60930000e+04, ...,\n",
              "        1.44400000e+03, 2.45848600e+06, 4.18570181e+09],\n",
              "       [6.71000000e+02, 8.20430306e+00, 7.01210000e+04, ...,\n",
              "        1.22500000e+03, 2.08684000e+06, 3.55502138e+09]])"
            ]
          },
          "metadata": {},
          "execution_count": 36
        }
      ]
    },
    {
      "cell_type": "code",
      "source": [
        "model= LinearRegression().fit(x_, y)"
      ],
      "metadata": {
        "id": "eLmVBHCxqWTb"
      },
      "execution_count": 37,
      "outputs": []
    },
    {
      "cell_type": "code",
      "source": [
        "r_sq = model.score(x_, y)\n",
        "r_sq"
      ],
      "metadata": {
        "colab": {
          "base_uri": "https://localhost:8080/"
        },
        "id": "He4jNbjzqauQ",
        "outputId": "cba88160-e9f2-4691-87f7-076e1330f7ec"
      },
      "execution_count": 38,
      "outputs": [
        {
          "output_type": "execute_result",
          "data": {
            "text/plain": [
              "0.998220236789209"
            ]
          },
          "metadata": {},
          "execution_count": 38
        }
      ]
    },
    {
      "cell_type": "code",
      "source": [
        "y_pred = model.predict(x_)"
      ],
      "metadata": {
        "id": "RV7thmvpqkSH"
      },
      "execution_count": 39,
      "outputs": []
    },
    {
      "cell_type": "code",
      "source": [
        "print(\"MAE: \", (metrics.mean_absolute_error(y_pred, y)))\n",
        "print(\"MSE: \", (metrics.mean_squared_error(y_pred, y)))\n",
        "print(\"R2 score: \", metrics.r2_score(y_pred, y))"
      ],
      "metadata": {
        "colab": {
          "base_uri": "https://localhost:8080/"
        },
        "id": "g9uggErDqqDZ",
        "outputId": "6f715873-eb1f-460f-835a-80e63d797d5f"
      },
      "execution_count": 40,
      "outputs": [
        {
          "output_type": "stream",
          "name": "stdout",
          "text": [
            "MAE:  500.48486520849593\n",
            "MSE:  358727.21989876847\n",
            "R2 score:  0.9982171993376471\n"
          ]
        }
      ]
    },
    {
      "cell_type": "markdown",
      "source": [
        "Advanced Linear Regression "
      ],
      "metadata": {
        "id": "wnsbWklTrJp8"
      }
    },
    {
      "cell_type": "code",
      "source": [
        "x = df.drop(['nextPeriodOptimalServers','requestWaitingTime',\n",
        "             'totalInQueue', 'totalTimeInSystem', 'requestCancelled'], axis = 1)\n",
        "y = df['nextPeriodOptimalServers']"
      ],
      "metadata": {
        "id": "ftZIacfQq2vu"
      },
      "execution_count": 41,
      "outputs": []
    },
    {
      "cell_type": "code",
      "source": [
        "x = sm.add_constant(x)\n",
        "x"
      ],
      "metadata": {
        "colab": {
          "base_uri": "https://localhost:8080/",
          "height": 479
        },
        "id": "pOr4QH7XrObI",
        "outputId": "6ab50f28-c047-460f-e70d-9330fb653afa"
      },
      "execution_count": 42,
      "outputs": [
        {
          "output_type": "stream",
          "name": "stderr",
          "text": [
            "/usr/local/lib/python3.8/dist-packages/statsmodels/tsa/tsatools.py:142: FutureWarning: In a future version of pandas all arguments of concat except for the argument 'objs' will be keyword-only\n",
            "  x = pd.concat(x[::order], 1)\n"
          ]
        },
        {
          "output_type": "execute_result",
          "data": {
            "text/plain": [
              "     const  Unnamed: 0  requestStartWaiting  arrivalEvent  requestProcessed  \\\n",
              "0      1.0           0                41358         41358             41334   \n",
              "1      1.0           1                32516         32516             32528   \n",
              "2      1.0           2                28923         28923             28922   \n",
              "3      1.0           3                28106         28106             28099   \n",
              "4      1.0           4                27335         27335             27338   \n",
              "..     ...         ...                  ...           ...               ...   \n",
              "667    1.0         667                84075         84075             84055   \n",
              "668    1.0         668                86059         86059             86066   \n",
              "669    1.0         669                83909         83909             83908   \n",
              "670    1.0         670                76093         76093             76097   \n",
              "671    1.0         671                70121         70121             70124   \n",
              "\n",
              "     CurrentPeriodNumberOfServers  nextPeriodReward  periodReward  \n",
              "0                              21           27428.0       35034.0  \n",
              "1                              17           24422.0       27428.0  \n",
              "2                              15           23599.0       24422.0  \n",
              "3                              15           22838.0       23599.0  \n",
              "4                              15           30212.0       22838.0  \n",
              "..                            ...               ...           ...  \n",
              "667                            42           73166.0       71455.0  \n",
              "668                            43           71308.0       73166.0  \n",
              "669                            42           64697.0       71308.0  \n",
              "670                            38           59624.0       64697.0  \n",
              "671                            35               0.0       59624.0  \n",
              "\n",
              "[672 rows x 8 columns]"
            ],
            "text/html": [
              "\n",
              "  <div id=\"df-eb4b2b52-2a56-4131-b6d2-76f2e8499ef8\">\n",
              "    <div class=\"colab-df-container\">\n",
              "      <div>\n",
              "<style scoped>\n",
              "    .dataframe tbody tr th:only-of-type {\n",
              "        vertical-align: middle;\n",
              "    }\n",
              "\n",
              "    .dataframe tbody tr th {\n",
              "        vertical-align: top;\n",
              "    }\n",
              "\n",
              "    .dataframe thead th {\n",
              "        text-align: right;\n",
              "    }\n",
              "</style>\n",
              "<table border=\"1\" class=\"dataframe\">\n",
              "  <thead>\n",
              "    <tr style=\"text-align: right;\">\n",
              "      <th></th>\n",
              "      <th>const</th>\n",
              "      <th>Unnamed: 0</th>\n",
              "      <th>requestStartWaiting</th>\n",
              "      <th>arrivalEvent</th>\n",
              "      <th>requestProcessed</th>\n",
              "      <th>CurrentPeriodNumberOfServers</th>\n",
              "      <th>nextPeriodReward</th>\n",
              "      <th>periodReward</th>\n",
              "    </tr>\n",
              "  </thead>\n",
              "  <tbody>\n",
              "    <tr>\n",
              "      <th>0</th>\n",
              "      <td>1.0</td>\n",
              "      <td>0</td>\n",
              "      <td>41358</td>\n",
              "      <td>41358</td>\n",
              "      <td>41334</td>\n",
              "      <td>21</td>\n",
              "      <td>27428.0</td>\n",
              "      <td>35034.0</td>\n",
              "    </tr>\n",
              "    <tr>\n",
              "      <th>1</th>\n",
              "      <td>1.0</td>\n",
              "      <td>1</td>\n",
              "      <td>32516</td>\n",
              "      <td>32516</td>\n",
              "      <td>32528</td>\n",
              "      <td>17</td>\n",
              "      <td>24422.0</td>\n",
              "      <td>27428.0</td>\n",
              "    </tr>\n",
              "    <tr>\n",
              "      <th>2</th>\n",
              "      <td>1.0</td>\n",
              "      <td>2</td>\n",
              "      <td>28923</td>\n",
              "      <td>28923</td>\n",
              "      <td>28922</td>\n",
              "      <td>15</td>\n",
              "      <td>23599.0</td>\n",
              "      <td>24422.0</td>\n",
              "    </tr>\n",
              "    <tr>\n",
              "      <th>3</th>\n",
              "      <td>1.0</td>\n",
              "      <td>3</td>\n",
              "      <td>28106</td>\n",
              "      <td>28106</td>\n",
              "      <td>28099</td>\n",
              "      <td>15</td>\n",
              "      <td>22838.0</td>\n",
              "      <td>23599.0</td>\n",
              "    </tr>\n",
              "    <tr>\n",
              "      <th>4</th>\n",
              "      <td>1.0</td>\n",
              "      <td>4</td>\n",
              "      <td>27335</td>\n",
              "      <td>27335</td>\n",
              "      <td>27338</td>\n",
              "      <td>15</td>\n",
              "      <td>30212.0</td>\n",
              "      <td>22838.0</td>\n",
              "    </tr>\n",
              "    <tr>\n",
              "      <th>...</th>\n",
              "      <td>...</td>\n",
              "      <td>...</td>\n",
              "      <td>...</td>\n",
              "      <td>...</td>\n",
              "      <td>...</td>\n",
              "      <td>...</td>\n",
              "      <td>...</td>\n",
              "      <td>...</td>\n",
              "    </tr>\n",
              "    <tr>\n",
              "      <th>667</th>\n",
              "      <td>1.0</td>\n",
              "      <td>667</td>\n",
              "      <td>84075</td>\n",
              "      <td>84075</td>\n",
              "      <td>84055</td>\n",
              "      <td>42</td>\n",
              "      <td>73166.0</td>\n",
              "      <td>71455.0</td>\n",
              "    </tr>\n",
              "    <tr>\n",
              "      <th>668</th>\n",
              "      <td>1.0</td>\n",
              "      <td>668</td>\n",
              "      <td>86059</td>\n",
              "      <td>86059</td>\n",
              "      <td>86066</td>\n",
              "      <td>43</td>\n",
              "      <td>71308.0</td>\n",
              "      <td>73166.0</td>\n",
              "    </tr>\n",
              "    <tr>\n",
              "      <th>669</th>\n",
              "      <td>1.0</td>\n",
              "      <td>669</td>\n",
              "      <td>83909</td>\n",
              "      <td>83909</td>\n",
              "      <td>83908</td>\n",
              "      <td>42</td>\n",
              "      <td>64697.0</td>\n",
              "      <td>71308.0</td>\n",
              "    </tr>\n",
              "    <tr>\n",
              "      <th>670</th>\n",
              "      <td>1.0</td>\n",
              "      <td>670</td>\n",
              "      <td>76093</td>\n",
              "      <td>76093</td>\n",
              "      <td>76097</td>\n",
              "      <td>38</td>\n",
              "      <td>59624.0</td>\n",
              "      <td>64697.0</td>\n",
              "    </tr>\n",
              "    <tr>\n",
              "      <th>671</th>\n",
              "      <td>1.0</td>\n",
              "      <td>671</td>\n",
              "      <td>70121</td>\n",
              "      <td>70121</td>\n",
              "      <td>70124</td>\n",
              "      <td>35</td>\n",
              "      <td>0.0</td>\n",
              "      <td>59624.0</td>\n",
              "    </tr>\n",
              "  </tbody>\n",
              "</table>\n",
              "<p>672 rows × 8 columns</p>\n",
              "</div>\n",
              "      <button class=\"colab-df-convert\" onclick=\"convertToInteractive('df-eb4b2b52-2a56-4131-b6d2-76f2e8499ef8')\"\n",
              "              title=\"Convert this dataframe to an interactive table.\"\n",
              "              style=\"display:none;\">\n",
              "        \n",
              "  <svg xmlns=\"http://www.w3.org/2000/svg\" height=\"24px\"viewBox=\"0 0 24 24\"\n",
              "       width=\"24px\">\n",
              "    <path d=\"M0 0h24v24H0V0z\" fill=\"none\"/>\n",
              "    <path d=\"M18.56 5.44l.94 2.06.94-2.06 2.06-.94-2.06-.94-.94-2.06-.94 2.06-2.06.94zm-11 1L8.5 8.5l.94-2.06 2.06-.94-2.06-.94L8.5 2.5l-.94 2.06-2.06.94zm10 10l.94 2.06.94-2.06 2.06-.94-2.06-.94-.94-2.06-.94 2.06-2.06.94z\"/><path d=\"M17.41 7.96l-1.37-1.37c-.4-.4-.92-.59-1.43-.59-.52 0-1.04.2-1.43.59L10.3 9.45l-7.72 7.72c-.78.78-.78 2.05 0 2.83L4 21.41c.39.39.9.59 1.41.59.51 0 1.02-.2 1.41-.59l7.78-7.78 2.81-2.81c.8-.78.8-2.07 0-2.86zM5.41 20L4 18.59l7.72-7.72 1.47 1.35L5.41 20z\"/>\n",
              "  </svg>\n",
              "      </button>\n",
              "      \n",
              "  <style>\n",
              "    .colab-df-container {\n",
              "      display:flex;\n",
              "      flex-wrap:wrap;\n",
              "      gap: 12px;\n",
              "    }\n",
              "\n",
              "    .colab-df-convert {\n",
              "      background-color: #E8F0FE;\n",
              "      border: none;\n",
              "      border-radius: 50%;\n",
              "      cursor: pointer;\n",
              "      display: none;\n",
              "      fill: #1967D2;\n",
              "      height: 32px;\n",
              "      padding: 0 0 0 0;\n",
              "      width: 32px;\n",
              "    }\n",
              "\n",
              "    .colab-df-convert:hover {\n",
              "      background-color: #E2EBFA;\n",
              "      box-shadow: 0px 1px 2px rgba(60, 64, 67, 0.3), 0px 1px 3px 1px rgba(60, 64, 67, 0.15);\n",
              "      fill: #174EA6;\n",
              "    }\n",
              "\n",
              "    [theme=dark] .colab-df-convert {\n",
              "      background-color: #3B4455;\n",
              "      fill: #D2E3FC;\n",
              "    }\n",
              "\n",
              "    [theme=dark] .colab-df-convert:hover {\n",
              "      background-color: #434B5C;\n",
              "      box-shadow: 0px 1px 3px 1px rgba(0, 0, 0, 0.15);\n",
              "      filter: drop-shadow(0px 1px 2px rgba(0, 0, 0, 0.3));\n",
              "      fill: #FFFFFF;\n",
              "    }\n",
              "  </style>\n",
              "\n",
              "      <script>\n",
              "        const buttonEl =\n",
              "          document.querySelector('#df-eb4b2b52-2a56-4131-b6d2-76f2e8499ef8 button.colab-df-convert');\n",
              "        buttonEl.style.display =\n",
              "          google.colab.kernel.accessAllowed ? 'block' : 'none';\n",
              "\n",
              "        async function convertToInteractive(key) {\n",
              "          const element = document.querySelector('#df-eb4b2b52-2a56-4131-b6d2-76f2e8499ef8');\n",
              "          const dataTable =\n",
              "            await google.colab.kernel.invokeFunction('convertToInteractive',\n",
              "                                                     [key], {});\n",
              "          if (!dataTable) return;\n",
              "\n",
              "          const docLinkHtml = 'Like what you see? Visit the ' +\n",
              "            '<a target=\"_blank\" href=https://colab.research.google.com/notebooks/data_table.ipynb>data table notebook</a>'\n",
              "            + ' to learn more about interactive tables.';\n",
              "          element.innerHTML = '';\n",
              "          dataTable['output_type'] = 'display_data';\n",
              "          await google.colab.output.renderOutput(dataTable, element);\n",
              "          const docLink = document.createElement('div');\n",
              "          docLink.innerHTML = docLinkHtml;\n",
              "          element.appendChild(docLink);\n",
              "        }\n",
              "      </script>\n",
              "    </div>\n",
              "  </div>\n",
              "  "
            ]
          },
          "metadata": {},
          "execution_count": 42
        }
      ]
    },
    {
      "cell_type": "code",
      "source": [
        "model = sm.OLS(y, x)"
      ],
      "metadata": {
        "id": "zgBz4YZ3rRxx"
      },
      "execution_count": 43,
      "outputs": []
    },
    {
      "cell_type": "code",
      "source": [
        "results = model.fit()"
      ],
      "metadata": {
        "id": "QLT4sBqLrYvR"
      },
      "execution_count": 44,
      "outputs": []
    },
    {
      "cell_type": "code",
      "source": [
        "print(results.summary())"
      ],
      "metadata": {
        "colab": {
          "base_uri": "https://localhost:8080/"
        },
        "id": "Xl3AYvThraUE",
        "outputId": "c9f37311-4c6b-4737-8707-ab7e96e529bf"
      },
      "execution_count": 45,
      "outputs": [
        {
          "output_type": "stream",
          "name": "stdout",
          "text": [
            "                               OLS Regression Results                               \n",
            "====================================================================================\n",
            "Dep. Variable:     nextPeriodOptimalServers   R-squared:                       0.998\n",
            "Model:                                  OLS   Adj. R-squared:                  0.998\n",
            "Method:                       Least Squares   F-statistic:                 5.723e+04\n",
            "Date:                      Sat, 28 Jan 2023   Prob (F-statistic):               0.00\n",
            "Time:                              11:22:35   Log-Likelihood:                -256.81\n",
            "No. Observations:                       672   AIC:                             527.6\n",
            "Df Residuals:                           665   BIC:                             559.2\n",
            "Df Model:                                 6                                         \n",
            "Covariance Type:                  nonrobust                                         \n",
            "================================================================================================\n",
            "                                   coef    std err          t      P>|t|      [0.025      0.975]\n",
            "------------------------------------------------------------------------------------------------\n",
            "const                            1.4003      0.079     17.685      0.000       1.245       1.556\n",
            "Unnamed: 0                   -1.136e-05   7.17e-05     -0.158      0.874      -0.000       0.000\n",
            "requestStartWaiting              0.0004      0.001      0.558      0.577      -0.001       0.002\n",
            "arrivalEvent                     0.0004      0.001      0.558      0.577      -0.001       0.002\n",
            "requestProcessed                -0.0001      0.035     -0.004      0.997      -0.069       0.069\n",
            "CurrentPeriodNumberOfServers    -0.1660     10.491     -0.016      0.987     -20.765      20.433\n",
            "nextPeriodReward                 0.0006   2.53e-06    224.744      0.000       0.001       0.001\n",
            "periodReward                    -0.0006      0.035     -0.017      0.986      -0.069       0.068\n",
            "==============================================================================\n",
            "Omnibus:                       42.409   Durbin-Watson:                   1.975\n",
            "Prob(Omnibus):                  0.000   Jarque-Bera (JB):               15.797\n",
            "Skew:                           0.008   Prob(JB):                     0.000371\n",
            "Kurtosis:                       2.249   Cond. No.                     2.55e+16\n",
            "==============================================================================\n",
            "\n",
            "Notes:\n",
            "[1] Standard Errors assume that the covariance matrix of the errors is correctly specified.\n",
            "[2] The smallest eigenvalue is 1.82e-20. This might indicate that there are\n",
            "strong multicollinearity problems or that the design matrix is singular.\n"
          ]
        }
      ]
    },
    {
      "cell_type": "markdown",
      "source": [
        "Neural Network"
      ],
      "metadata": {
        "id": "UHmYB3jDr__y"
      }
    },
    {
      "cell_type": "code",
      "source": [
        "import tensorflow as tf\n",
        "from tensorflow import keras\n"
      ],
      "metadata": {
        "id": "zzF66dtCstSO"
      },
      "execution_count": 46,
      "outputs": []
    },
    {
      "cell_type": "code",
      "source": [
        "X = df.drop(['nextPeriodReward'], axis = 1)\n",
        "y = df['nextPeriodReward']\n",
        "X"
      ],
      "metadata": {
        "colab": {
          "base_uri": "https://localhost:8080/",
          "height": 505
        },
        "id": "LF9NLzJjtBdO",
        "outputId": "d4c1c202-99b0-41c4-86fb-9d0f17238de1"
      },
      "execution_count": 47,
      "outputs": [
        {
          "output_type": "execute_result",
          "data": {
            "text/plain": [
              "     Unnamed: 0  totalInQueue  requestStartWaiting  arrivalEvent  \\\n",
              "0             0      5.951618                41358         41358   \n",
              "1             1      4.620401                32516         32516   \n",
              "2             2      4.316180                28923         28923   \n",
              "3             3      3.892457                28106         28106   \n",
              "4             4      3.359002                27335         27335   \n",
              "..          ...           ...                  ...           ...   \n",
              "667         667      9.835188                84075         84075   \n",
              "668         668      9.717940                86059         86059   \n",
              "669         669      9.335659                83909         83909   \n",
              "670         670      8.761989                76093         76093   \n",
              "671         671      8.204303                70121         70121   \n",
              "\n",
              "     requestWaitingTime  requestProcessed  totalTimeInSystem  \\\n",
              "0              0.363556             41334           1.862788   \n",
              "1              0.321547             32528           1.825141   \n",
              "2              0.345442             28922           1.849731   \n",
              "3              0.290824             28099           1.791418   \n",
              "4              0.243267             27338           1.743175   \n",
              "..                  ...               ...                ...   \n",
              "667            0.340564             84055           1.842283   \n",
              "668            0.329728             86066           1.831083   \n",
              "669            0.324110             83908           1.822104   \n",
              "670            0.333156             76097           1.832423   \n",
              "671            0.335110             70124           1.832085   \n",
              "\n",
              "     requestCancelled  nextPeriodOptimalServers  CurrentPeriodNumberOfServers  \\\n",
              "0                 0.0                      17.0                            21   \n",
              "1                 0.0                      15.0                            17   \n",
              "2                 0.0                      15.0                            15   \n",
              "3                 0.0                      15.0                            15   \n",
              "4                 0.0                      18.0                            15   \n",
              "..                ...                       ...                           ...   \n",
              "667               0.0                      43.0                            42   \n",
              "668               0.0                      42.0                            43   \n",
              "669               0.0                      38.0                            42   \n",
              "670               0.0                      35.0                            38   \n",
              "671               0.0                       0.0                            35   \n",
              "\n",
              "     periodReward  \n",
              "0         35034.0  \n",
              "1         27428.0  \n",
              "2         24422.0  \n",
              "3         23599.0  \n",
              "4         22838.0  \n",
              "..            ...  \n",
              "667       71455.0  \n",
              "668       73166.0  \n",
              "669       71308.0  \n",
              "670       64697.0  \n",
              "671       59624.0  \n",
              "\n",
              "[672 rows x 11 columns]"
            ],
            "text/html": [
              "\n",
              "  <div id=\"df-b09a8d61-317b-44b4-b792-4c2e865483eb\">\n",
              "    <div class=\"colab-df-container\">\n",
              "      <div>\n",
              "<style scoped>\n",
              "    .dataframe tbody tr th:only-of-type {\n",
              "        vertical-align: middle;\n",
              "    }\n",
              "\n",
              "    .dataframe tbody tr th {\n",
              "        vertical-align: top;\n",
              "    }\n",
              "\n",
              "    .dataframe thead th {\n",
              "        text-align: right;\n",
              "    }\n",
              "</style>\n",
              "<table border=\"1\" class=\"dataframe\">\n",
              "  <thead>\n",
              "    <tr style=\"text-align: right;\">\n",
              "      <th></th>\n",
              "      <th>Unnamed: 0</th>\n",
              "      <th>totalInQueue</th>\n",
              "      <th>requestStartWaiting</th>\n",
              "      <th>arrivalEvent</th>\n",
              "      <th>requestWaitingTime</th>\n",
              "      <th>requestProcessed</th>\n",
              "      <th>totalTimeInSystem</th>\n",
              "      <th>requestCancelled</th>\n",
              "      <th>nextPeriodOptimalServers</th>\n",
              "      <th>CurrentPeriodNumberOfServers</th>\n",
              "      <th>periodReward</th>\n",
              "    </tr>\n",
              "  </thead>\n",
              "  <tbody>\n",
              "    <tr>\n",
              "      <th>0</th>\n",
              "      <td>0</td>\n",
              "      <td>5.951618</td>\n",
              "      <td>41358</td>\n",
              "      <td>41358</td>\n",
              "      <td>0.363556</td>\n",
              "      <td>41334</td>\n",
              "      <td>1.862788</td>\n",
              "      <td>0.0</td>\n",
              "      <td>17.0</td>\n",
              "      <td>21</td>\n",
              "      <td>35034.0</td>\n",
              "    </tr>\n",
              "    <tr>\n",
              "      <th>1</th>\n",
              "      <td>1</td>\n",
              "      <td>4.620401</td>\n",
              "      <td>32516</td>\n",
              "      <td>32516</td>\n",
              "      <td>0.321547</td>\n",
              "      <td>32528</td>\n",
              "      <td>1.825141</td>\n",
              "      <td>0.0</td>\n",
              "      <td>15.0</td>\n",
              "      <td>17</td>\n",
              "      <td>27428.0</td>\n",
              "    </tr>\n",
              "    <tr>\n",
              "      <th>2</th>\n",
              "      <td>2</td>\n",
              "      <td>4.316180</td>\n",
              "      <td>28923</td>\n",
              "      <td>28923</td>\n",
              "      <td>0.345442</td>\n",
              "      <td>28922</td>\n",
              "      <td>1.849731</td>\n",
              "      <td>0.0</td>\n",
              "      <td>15.0</td>\n",
              "      <td>15</td>\n",
              "      <td>24422.0</td>\n",
              "    </tr>\n",
              "    <tr>\n",
              "      <th>3</th>\n",
              "      <td>3</td>\n",
              "      <td>3.892457</td>\n",
              "      <td>28106</td>\n",
              "      <td>28106</td>\n",
              "      <td>0.290824</td>\n",
              "      <td>28099</td>\n",
              "      <td>1.791418</td>\n",
              "      <td>0.0</td>\n",
              "      <td>15.0</td>\n",
              "      <td>15</td>\n",
              "      <td>23599.0</td>\n",
              "    </tr>\n",
              "    <tr>\n",
              "      <th>4</th>\n",
              "      <td>4</td>\n",
              "      <td>3.359002</td>\n",
              "      <td>27335</td>\n",
              "      <td>27335</td>\n",
              "      <td>0.243267</td>\n",
              "      <td>27338</td>\n",
              "      <td>1.743175</td>\n",
              "      <td>0.0</td>\n",
              "      <td>18.0</td>\n",
              "      <td>15</td>\n",
              "      <td>22838.0</td>\n",
              "    </tr>\n",
              "    <tr>\n",
              "      <th>...</th>\n",
              "      <td>...</td>\n",
              "      <td>...</td>\n",
              "      <td>...</td>\n",
              "      <td>...</td>\n",
              "      <td>...</td>\n",
              "      <td>...</td>\n",
              "      <td>...</td>\n",
              "      <td>...</td>\n",
              "      <td>...</td>\n",
              "      <td>...</td>\n",
              "      <td>...</td>\n",
              "    </tr>\n",
              "    <tr>\n",
              "      <th>667</th>\n",
              "      <td>667</td>\n",
              "      <td>9.835188</td>\n",
              "      <td>84075</td>\n",
              "      <td>84075</td>\n",
              "      <td>0.340564</td>\n",
              "      <td>84055</td>\n",
              "      <td>1.842283</td>\n",
              "      <td>0.0</td>\n",
              "      <td>43.0</td>\n",
              "      <td>42</td>\n",
              "      <td>71455.0</td>\n",
              "    </tr>\n",
              "    <tr>\n",
              "      <th>668</th>\n",
              "      <td>668</td>\n",
              "      <td>9.717940</td>\n",
              "      <td>86059</td>\n",
              "      <td>86059</td>\n",
              "      <td>0.329728</td>\n",
              "      <td>86066</td>\n",
              "      <td>1.831083</td>\n",
              "      <td>0.0</td>\n",
              "      <td>42.0</td>\n",
              "      <td>43</td>\n",
              "      <td>73166.0</td>\n",
              "    </tr>\n",
              "    <tr>\n",
              "      <th>669</th>\n",
              "      <td>669</td>\n",
              "      <td>9.335659</td>\n",
              "      <td>83909</td>\n",
              "      <td>83909</td>\n",
              "      <td>0.324110</td>\n",
              "      <td>83908</td>\n",
              "      <td>1.822104</td>\n",
              "      <td>0.0</td>\n",
              "      <td>38.0</td>\n",
              "      <td>42</td>\n",
              "      <td>71308.0</td>\n",
              "    </tr>\n",
              "    <tr>\n",
              "      <th>670</th>\n",
              "      <td>670</td>\n",
              "      <td>8.761989</td>\n",
              "      <td>76093</td>\n",
              "      <td>76093</td>\n",
              "      <td>0.333156</td>\n",
              "      <td>76097</td>\n",
              "      <td>1.832423</td>\n",
              "      <td>0.0</td>\n",
              "      <td>35.0</td>\n",
              "      <td>38</td>\n",
              "      <td>64697.0</td>\n",
              "    </tr>\n",
              "    <tr>\n",
              "      <th>671</th>\n",
              "      <td>671</td>\n",
              "      <td>8.204303</td>\n",
              "      <td>70121</td>\n",
              "      <td>70121</td>\n",
              "      <td>0.335110</td>\n",
              "      <td>70124</td>\n",
              "      <td>1.832085</td>\n",
              "      <td>0.0</td>\n",
              "      <td>0.0</td>\n",
              "      <td>35</td>\n",
              "      <td>59624.0</td>\n",
              "    </tr>\n",
              "  </tbody>\n",
              "</table>\n",
              "<p>672 rows × 11 columns</p>\n",
              "</div>\n",
              "      <button class=\"colab-df-convert\" onclick=\"convertToInteractive('df-b09a8d61-317b-44b4-b792-4c2e865483eb')\"\n",
              "              title=\"Convert this dataframe to an interactive table.\"\n",
              "              style=\"display:none;\">\n",
              "        \n",
              "  <svg xmlns=\"http://www.w3.org/2000/svg\" height=\"24px\"viewBox=\"0 0 24 24\"\n",
              "       width=\"24px\">\n",
              "    <path d=\"M0 0h24v24H0V0z\" fill=\"none\"/>\n",
              "    <path d=\"M18.56 5.44l.94 2.06.94-2.06 2.06-.94-2.06-.94-.94-2.06-.94 2.06-2.06.94zm-11 1L8.5 8.5l.94-2.06 2.06-.94-2.06-.94L8.5 2.5l-.94 2.06-2.06.94zm10 10l.94 2.06.94-2.06 2.06-.94-2.06-.94-.94-2.06-.94 2.06-2.06.94z\"/><path d=\"M17.41 7.96l-1.37-1.37c-.4-.4-.92-.59-1.43-.59-.52 0-1.04.2-1.43.59L10.3 9.45l-7.72 7.72c-.78.78-.78 2.05 0 2.83L4 21.41c.39.39.9.59 1.41.59.51 0 1.02-.2 1.41-.59l7.78-7.78 2.81-2.81c.8-.78.8-2.07 0-2.86zM5.41 20L4 18.59l7.72-7.72 1.47 1.35L5.41 20z\"/>\n",
              "  </svg>\n",
              "      </button>\n",
              "      \n",
              "  <style>\n",
              "    .colab-df-container {\n",
              "      display:flex;\n",
              "      flex-wrap:wrap;\n",
              "      gap: 12px;\n",
              "    }\n",
              "\n",
              "    .colab-df-convert {\n",
              "      background-color: #E8F0FE;\n",
              "      border: none;\n",
              "      border-radius: 50%;\n",
              "      cursor: pointer;\n",
              "      display: none;\n",
              "      fill: #1967D2;\n",
              "      height: 32px;\n",
              "      padding: 0 0 0 0;\n",
              "      width: 32px;\n",
              "    }\n",
              "\n",
              "    .colab-df-convert:hover {\n",
              "      background-color: #E2EBFA;\n",
              "      box-shadow: 0px 1px 2px rgba(60, 64, 67, 0.3), 0px 1px 3px 1px rgba(60, 64, 67, 0.15);\n",
              "      fill: #174EA6;\n",
              "    }\n",
              "\n",
              "    [theme=dark] .colab-df-convert {\n",
              "      background-color: #3B4455;\n",
              "      fill: #D2E3FC;\n",
              "    }\n",
              "\n",
              "    [theme=dark] .colab-df-convert:hover {\n",
              "      background-color: #434B5C;\n",
              "      box-shadow: 0px 1px 3px 1px rgba(0, 0, 0, 0.15);\n",
              "      filter: drop-shadow(0px 1px 2px rgba(0, 0, 0, 0.3));\n",
              "      fill: #FFFFFF;\n",
              "    }\n",
              "  </style>\n",
              "\n",
              "      <script>\n",
              "        const buttonEl =\n",
              "          document.querySelector('#df-b09a8d61-317b-44b4-b792-4c2e865483eb button.colab-df-convert');\n",
              "        buttonEl.style.display =\n",
              "          google.colab.kernel.accessAllowed ? 'block' : 'none';\n",
              "\n",
              "        async function convertToInteractive(key) {\n",
              "          const element = document.querySelector('#df-b09a8d61-317b-44b4-b792-4c2e865483eb');\n",
              "          const dataTable =\n",
              "            await google.colab.kernel.invokeFunction('convertToInteractive',\n",
              "                                                     [key], {});\n",
              "          if (!dataTable) return;\n",
              "\n",
              "          const docLinkHtml = 'Like what you see? Visit the ' +\n",
              "            '<a target=\"_blank\" href=https://colab.research.google.com/notebooks/data_table.ipynb>data table notebook</a>'\n",
              "            + ' to learn more about interactive tables.';\n",
              "          element.innerHTML = '';\n",
              "          dataTable['output_type'] = 'display_data';\n",
              "          await google.colab.output.renderOutput(dataTable, element);\n",
              "          const docLink = document.createElement('div');\n",
              "          docLink.innerHTML = docLinkHtml;\n",
              "          element.appendChild(docLink);\n",
              "        }\n",
              "      </script>\n",
              "    </div>\n",
              "  </div>\n",
              "  "
            ]
          },
          "metadata": {},
          "execution_count": 47
        }
      ]
    },
    {
      "cell_type": "code",
      "source": [
        "X_train, X_test, y_train, y_test = train_test_split(X, y, test_size = 0.3)\n",
        "X_train = tf.keras.utils.normalize(X_train, axis = 1)\n",
        "X_test = tf.keras.utils.normalize(X_test, axis = 1)"
      ],
      "metadata": {
        "id": "zv8mquxptImg"
      },
      "execution_count": 48,
      "outputs": []
    },
    {
      "cell_type": "code",
      "source": [
        "model = tf.keras.models.Sequential()\n",
        "model.add(tf.keras.layers.Flatten())\n",
        "model.add(tf.keras.layers.Dense(128, activation=tf.nn.relu))\n",
        "model.add(tf.keras.layers.Dense(128, activation=tf.nn.relu))\n",
        "model.add(tf.keras.layers.Activation(activation=tf.nn.softmax))"
      ],
      "metadata": {
        "id": "aIzYsk6vtK4I"
      },
      "execution_count": 49,
      "outputs": []
    },
    {
      "cell_type": "code",
      "source": [
        "model.compile(\n",
        "    optimizer = 'adam',\n",
        "    loss = 'sparse_categorical_crossentropy',\n",
        "    metrics = ['accuracy']\n",
        ")"
      ],
      "metadata": {
        "id": "zG_tx9YstlDU"
      },
      "execution_count": 50,
      "outputs": []
    },
    {
      "cell_type": "code",
      "source": [
        "model.fit(X_train, y_train, epochs = 5)"
      ],
      "metadata": {
        "colab": {
          "base_uri": "https://localhost:8080/",
          "height": 1000
        },
        "id": "KXqSg95Jtsyz",
        "outputId": "b388ee49-3789-462e-bf75-f93e8e4016d2"
      },
      "execution_count": 51,
      "outputs": [
        {
          "output_type": "stream",
          "name": "stdout",
          "text": [
            "Epoch 1/5\n"
          ]
        },
        {
          "output_type": "error",
          "ename": "InvalidArgumentError",
          "evalue": "ignored",
          "traceback": [
            "\u001b[0;31m---------------------------------------------------------------------------\u001b[0m",
            "\u001b[0;31mInvalidArgumentError\u001b[0m                      Traceback (most recent call last)",
            "\u001b[0;32m<ipython-input-51-34356cfd4eb4>\u001b[0m in \u001b[0;36m<module>\u001b[0;34m\u001b[0m\n\u001b[0;32m----> 1\u001b[0;31m \u001b[0mmodel\u001b[0m\u001b[0;34m.\u001b[0m\u001b[0mfit\u001b[0m\u001b[0;34m(\u001b[0m\u001b[0mX_train\u001b[0m\u001b[0;34m,\u001b[0m \u001b[0my_train\u001b[0m\u001b[0;34m,\u001b[0m \u001b[0mepochs\u001b[0m \u001b[0;34m=\u001b[0m \u001b[0;36m5\u001b[0m\u001b[0;34m)\u001b[0m\u001b[0;34m\u001b[0m\u001b[0;34m\u001b[0m\u001b[0m\n\u001b[0m",
            "\u001b[0;32m/usr/local/lib/python3.8/dist-packages/keras/utils/traceback_utils.py\u001b[0m in \u001b[0;36merror_handler\u001b[0;34m(*args, **kwargs)\u001b[0m\n\u001b[1;32m     65\u001b[0m     \u001b[0;32mexcept\u001b[0m \u001b[0mException\u001b[0m \u001b[0;32mas\u001b[0m \u001b[0me\u001b[0m\u001b[0;34m:\u001b[0m  \u001b[0;31m# pylint: disable=broad-except\u001b[0m\u001b[0;34m\u001b[0m\u001b[0;34m\u001b[0m\u001b[0m\n\u001b[1;32m     66\u001b[0m       \u001b[0mfiltered_tb\u001b[0m \u001b[0;34m=\u001b[0m \u001b[0m_process_traceback_frames\u001b[0m\u001b[0;34m(\u001b[0m\u001b[0me\u001b[0m\u001b[0;34m.\u001b[0m\u001b[0m__traceback__\u001b[0m\u001b[0;34m)\u001b[0m\u001b[0;34m\u001b[0m\u001b[0;34m\u001b[0m\u001b[0m\n\u001b[0;32m---> 67\u001b[0;31m       \u001b[0;32mraise\u001b[0m \u001b[0me\u001b[0m\u001b[0;34m.\u001b[0m\u001b[0mwith_traceback\u001b[0m\u001b[0;34m(\u001b[0m\u001b[0mfiltered_tb\u001b[0m\u001b[0;34m)\u001b[0m \u001b[0;32mfrom\u001b[0m \u001b[0;32mNone\u001b[0m\u001b[0;34m\u001b[0m\u001b[0;34m\u001b[0m\u001b[0m\n\u001b[0m\u001b[1;32m     68\u001b[0m     \u001b[0;32mfinally\u001b[0m\u001b[0;34m:\u001b[0m\u001b[0;34m\u001b[0m\u001b[0;34m\u001b[0m\u001b[0m\n\u001b[1;32m     69\u001b[0m       \u001b[0;32mdel\u001b[0m \u001b[0mfiltered_tb\u001b[0m\u001b[0;34m\u001b[0m\u001b[0;34m\u001b[0m\u001b[0m\n",
            "\u001b[0;32m/usr/local/lib/python3.8/dist-packages/tensorflow/python/eager/execute.py\u001b[0m in \u001b[0;36mquick_execute\u001b[0;34m(op_name, num_outputs, inputs, attrs, ctx, name)\u001b[0m\n\u001b[1;32m     52\u001b[0m   \u001b[0;32mtry\u001b[0m\u001b[0;34m:\u001b[0m\u001b[0;34m\u001b[0m\u001b[0;34m\u001b[0m\u001b[0m\n\u001b[1;32m     53\u001b[0m     \u001b[0mctx\u001b[0m\u001b[0;34m.\u001b[0m\u001b[0mensure_initialized\u001b[0m\u001b[0;34m(\u001b[0m\u001b[0;34m)\u001b[0m\u001b[0;34m\u001b[0m\u001b[0;34m\u001b[0m\u001b[0m\n\u001b[0;32m---> 54\u001b[0;31m     tensors = pywrap_tfe.TFE_Py_Execute(ctx._handle, device_name, op_name,\n\u001b[0m\u001b[1;32m     55\u001b[0m                                         inputs, attrs, num_outputs)\n\u001b[1;32m     56\u001b[0m   \u001b[0;32mexcept\u001b[0m \u001b[0mcore\u001b[0m\u001b[0;34m.\u001b[0m\u001b[0m_NotOkStatusException\u001b[0m \u001b[0;32mas\u001b[0m \u001b[0me\u001b[0m\u001b[0;34m:\u001b[0m\u001b[0;34m\u001b[0m\u001b[0;34m\u001b[0m\u001b[0m\n",
            "\u001b[0;31mInvalidArgumentError\u001b[0m: Graph execution error:\n\nDetected at node 'sparse_categorical_crossentropy/SparseSoftmaxCrossEntropyWithLogits/SparseSoftmaxCrossEntropyWithLogits' defined at (most recent call last):\n    File \"/usr/lib/python3.8/runpy.py\", line 194, in _run_module_as_main\n      return _run_code(code, main_globals, None,\n    File \"/usr/lib/python3.8/runpy.py\", line 87, in _run_code\n      exec(code, run_globals)\n    File \"/usr/local/lib/python3.8/dist-packages/ipykernel_launcher.py\", line 16, in <module>\n      app.launch_new_instance()\n    File \"/usr/local/lib/python3.8/dist-packages/traitlets/config/application.py\", line 992, in launch_instance\n      app.start()\n    File \"/usr/local/lib/python3.8/dist-packages/ipykernel/kernelapp.py\", line 612, in start\n      self.io_loop.start()\n    File \"/usr/local/lib/python3.8/dist-packages/tornado/platform/asyncio.py\", line 149, in start\n      self.asyncio_loop.run_forever()\n    File \"/usr/lib/python3.8/asyncio/base_events.py\", line 570, in run_forever\n      self._run_once()\n    File \"/usr/lib/python3.8/asyncio/base_events.py\", line 1859, in _run_once\n      handle._run()\n    File \"/usr/lib/python3.8/asyncio/events.py\", line 81, in _run\n      self._context.run(self._callback, *self._args)\n    File \"/usr/local/lib/python3.8/dist-packages/tornado/ioloop.py\", line 690, in <lambda>\n      lambda f: self._run_callback(functools.partial(callback, future))\n    File \"/usr/local/lib/python3.8/dist-packages/tornado/ioloop.py\", line 743, in _run_callback\n      ret = callback()\n    File \"/usr/local/lib/python3.8/dist-packages/tornado/gen.py\", line 787, in inner\n      self.run()\n    File \"/usr/local/lib/python3.8/dist-packages/tornado/gen.py\", line 748, in run\n      yielded = self.gen.send(value)\n    File \"/usr/local/lib/python3.8/dist-packages/ipykernel/kernelbase.py\", line 381, in dispatch_queue\n      yield self.process_one()\n    File \"/usr/local/lib/python3.8/dist-packages/tornado/gen.py\", line 225, in wrapper\n      runner = Runner(result, future, yielded)\n    File \"/usr/local/lib/python3.8/dist-packages/tornado/gen.py\", line 714, in __init__\n      self.run()\n    File \"/usr/local/lib/python3.8/dist-packages/tornado/gen.py\", line 748, in run\n      yielded = self.gen.send(value)\n    File \"/usr/local/lib/python3.8/dist-packages/ipykernel/kernelbase.py\", line 365, in process_one\n      yield gen.maybe_future(dispatch(*args))\n    File \"/usr/local/lib/python3.8/dist-packages/tornado/gen.py\", line 209, in wrapper\n      yielded = next(result)\n    File \"/usr/local/lib/python3.8/dist-packages/ipykernel/kernelbase.py\", line 268, in dispatch_shell\n      yield gen.maybe_future(handler(stream, idents, msg))\n    File \"/usr/local/lib/python3.8/dist-packages/tornado/gen.py\", line 209, in wrapper\n      yielded = next(result)\n    File \"/usr/local/lib/python3.8/dist-packages/ipykernel/kernelbase.py\", line 543, in execute_request\n      self.do_execute(\n    File \"/usr/local/lib/python3.8/dist-packages/tornado/gen.py\", line 209, in wrapper\n      yielded = next(result)\n    File \"/usr/local/lib/python3.8/dist-packages/ipykernel/ipkernel.py\", line 306, in do_execute\n      res = shell.run_cell(code, store_history=store_history, silent=silent)\n    File \"/usr/local/lib/python3.8/dist-packages/ipykernel/zmqshell.py\", line 536, in run_cell\n      return super(ZMQInteractiveShell, self).run_cell(*args, **kwargs)\n    File \"/usr/local/lib/python3.8/dist-packages/IPython/core/interactiveshell.py\", line 2854, in run_cell\n      result = self._run_cell(\n    File \"/usr/local/lib/python3.8/dist-packages/IPython/core/interactiveshell.py\", line 2881, in _run_cell\n      return runner(coro)\n    File \"/usr/local/lib/python3.8/dist-packages/IPython/core/async_helpers.py\", line 68, in _pseudo_sync_runner\n      coro.send(None)\n    File \"/usr/local/lib/python3.8/dist-packages/IPython/core/interactiveshell.py\", line 3057, in run_cell_async\n      has_raised = await self.run_ast_nodes(code_ast.body, cell_name,\n    File \"/usr/local/lib/python3.8/dist-packages/IPython/core/interactiveshell.py\", line 3249, in run_ast_nodes\n      if (await self.run_code(code, result,  async_=asy)):\n    File \"/usr/local/lib/python3.8/dist-packages/IPython/core/interactiveshell.py\", line 3326, in run_code\n      exec(code_obj, self.user_global_ns, self.user_ns)\n    File \"<ipython-input-51-34356cfd4eb4>\", line 1, in <module>\n      model.fit(X_train, y_train, epochs = 5)\n    File \"/usr/local/lib/python3.8/dist-packages/keras/utils/traceback_utils.py\", line 64, in error_handler\n      return fn(*args, **kwargs)\n    File \"/usr/local/lib/python3.8/dist-packages/keras/engine/training.py\", line 1409, in fit\n      tmp_logs = self.train_function(iterator)\n    File \"/usr/local/lib/python3.8/dist-packages/keras/engine/training.py\", line 1051, in train_function\n      return step_function(self, iterator)\n    File \"/usr/local/lib/python3.8/dist-packages/keras/engine/training.py\", line 1040, in step_function\n      outputs = model.distribute_strategy.run(run_step, args=(data,))\n    File \"/usr/local/lib/python3.8/dist-packages/keras/engine/training.py\", line 1030, in run_step\n      outputs = model.train_step(data)\n    File \"/usr/local/lib/python3.8/dist-packages/keras/engine/training.py\", line 890, in train_step\n      loss = self.compute_loss(x, y, y_pred, sample_weight)\n    File \"/usr/local/lib/python3.8/dist-packages/keras/engine/training.py\", line 948, in compute_loss\n      return self.compiled_loss(\n    File \"/usr/local/lib/python3.8/dist-packages/keras/engine/compile_utils.py\", line 201, in __call__\n      loss_value = loss_obj(y_t, y_p, sample_weight=sw)\n    File \"/usr/local/lib/python3.8/dist-packages/keras/losses.py\", line 139, in __call__\n      losses = call_fn(y_true, y_pred)\n    File \"/usr/local/lib/python3.8/dist-packages/keras/losses.py\", line 243, in call\n      return ag_fn(y_true, y_pred, **self._fn_kwargs)\n    File \"/usr/local/lib/python3.8/dist-packages/keras/losses.py\", line 1860, in sparse_categorical_crossentropy\n      return backend.sparse_categorical_crossentropy(\n    File \"/usr/local/lib/python3.8/dist-packages/keras/backend.py\", line 5238, in sparse_categorical_crossentropy\n      res = tf.nn.sparse_softmax_cross_entropy_with_logits(\nNode: 'sparse_categorical_crossentropy/SparseSoftmaxCrossEntropyWithLogits/SparseSoftmaxCrossEntropyWithLogits'\nReceived a label value of 73166 which is outside the valid range of [0, 128).  Label values: 54380 61544 0 44540 35800 30859 52107 62162 57056 59425 68824 60393 66249 46915 61898 29784 53875 60160 52510 53067 62650 71502 56381 61559 72335 53460 50189 67843 53865 51500 35610 73166\n\t [[{{node sparse_categorical_crossentropy/SparseSoftmaxCrossEntropyWithLogits/SparseSoftmaxCrossEntropyWithLogits}}]] [Op:__inference_train_function_583]"
          ]
        }
      ]
    },
    {
      "cell_type": "code",
      "source": [
        "model.evaluate(X_test, y_test)"
      ],
      "metadata": {
        "id": "c_0qT7bruNzj"
      },
      "execution_count": null,
      "outputs": []
    },
    {
      "cell_type": "code",
      "source": [
        " "
      ],
      "metadata": {
        "id": "tIF6GG-Mu9CS"
      },
      "execution_count": null,
      "outputs": []
    },
    {
      "cell_type": "code",
      "source": [],
      "metadata": {
        "id": "-l6MW8EP2oZk"
      },
      "execution_count": null,
      "outputs": []
    },
    {
      "cell_type": "markdown",
      "source": [
        "Random Forest"
      ],
      "metadata": {
        "id": "OGaA3ziN40CR"
      }
    },
    {
      "cell_type": "code",
      "source": [
        "X = df.drop(['nextPeriodReward'], axis = 1)\n",
        "y = df['nextPeriodReward']\n",
        "X_train, X_test, y_train, y_test = train_test_split(X, y, test_size = 0.3)\n",
        "X_train, X_val, y_train, y_val = train_test_split(X_train, y_train, test_size = 0.3)"
      ],
      "metadata": {
        "id": "kKtDumeu5Km7"
      },
      "execution_count": null,
      "outputs": []
    },
    {
      "cell_type": "code",
      "source": [
        "from sklearn.ensemble import RandomForestRegressor\n",
        "model = RandomForestRegressor()\n",
        "model.fit(X_train, y_train)"
      ],
      "metadata": {
        "id": "Ja_C1UeR415p"
      },
      "execution_count": null,
      "outputs": []
    },
    {
      "cell_type": "code",
      "source": [
        "model.score(X_val, y_val) #validation score"
      ],
      "metadata": {
        "id": "HXsqi26P5Feq"
      },
      "execution_count": null,
      "outputs": []
    },
    {
      "cell_type": "code",
      "source": [
        "model.score(X_test, y_test) #test score (end accuracy)"
      ],
      "metadata": {
        "id": "bVtS6FPI5eC0"
      },
      "execution_count": null,
      "outputs": []
    },
    {
      "cell_type": "code",
      "source": [],
      "metadata": {
        "id": "Jh7cdvFQ6Ttv"
      },
      "execution_count": null,
      "outputs": []
    },
    {
      "cell_type": "code",
      "source": [],
      "metadata": {
        "id": "CstE439HSYHh"
      },
      "execution_count": null,
      "outputs": []
    },
    {
      "cell_type": "code",
      "source": [],
      "metadata": {
        "id": "xdsnYZC_SX-u"
      },
      "execution_count": null,
      "outputs": []
    },
    {
      "cell_type": "code",
      "source": [
        "#epsilon-greedy\n",
        "def epsilon_greedy(min_nServers, max_nServers, prediction):\n",
        "  epsilon = np.random.binomial(n=1, p=0.5)\n",
        "  if epsilon == 1:\n",
        "    nServers = np.random.uniform(low = min_nServers, high = max_nServers)\n",
        "  else:\n",
        "    nServers = prediction\n",
        "  return round(nServers)"
      ],
      "metadata": {
        "id": "AdLMpK-M6b-4"
      },
      "execution_count": null,
      "outputs": []
    },
    {
      "cell_type": "code",
      "source": [
        "#Linear Regression\n",
        "def init_LR(X_train, y_train):\n",
        "  model = LinearRegression()\n",
        "  model.fit(X_train, y_train)\n",
        "  return model\n",
        "\n",
        "#Passive Agressive Regression\n",
        "def init_PAR(X_train, y_train):\n",
        "  model = linear_model.PassiveAggressiveRegressor()\n",
        "  model.fit(X_train, y_train)\n",
        "  return model\n",
        "\n",
        "#Predict for any model\n",
        "def predict(model, data):\n",
        "    pred = model.predict(data)\n",
        "    return pred\n"
      ],
      "metadata": {
        "id": "8bFal2RzNnAz"
      },
      "execution_count": null,
      "outputs": []
    },
    {
      "cell_type": "code",
      "source": [
        "model = init_PAR(X_train[0:15], y_train[0:15])\n",
        "pred = round(predict(model, [X_test[0]])[0])\n",
        "print('pred:', pred)\n",
        "nServers = epsilon_greedy(10, 40, pred)\n",
        "print('nServers:', nServers)"
      ],
      "metadata": {
        "id": "4Oy2dlZaVDwg"
      },
      "execution_count": null,
      "outputs": []
    },
    {
      "cell_type": "code",
      "source": [],
      "metadata": {
        "id": "8bthqHTUcoRd"
      },
      "execution_count": null,
      "outputs": []
    }
  ]
}